{
  "nbformat": 4,
  "nbformat_minor": 0,
  "metadata": {
    "colab": {
      "name": "DL_ch02_02.ipynb",
      "provenance": [],
      "collapsed_sections": [],
      "authorship_tag": "ABX9TyMIzLglS4WCMqCrQkE5x2jj",
      "include_colab_link": true
    },
    "kernelspec": {
      "name": "python3",
      "display_name": "Python 3"
    },
    "language_info": {
      "name": "python"
    }
  },
  "cells": [
    {
      "cell_type": "markdown",
      "metadata": {
        "id": "view-in-github",
        "colab_type": "text"
      },
      "source": [
        "<a href=\"https://colab.research.google.com/github/jewookwak/AI/blob/master/DL_ch02_02.ipynb\" target=\"_parent\"><img src=\"https://colab.research.google.com/assets/colab-badge.svg\" alt=\"Open In Colab\"/></a>"
      ]
    },
    {
      "cell_type": "markdown",
      "source": [
        "# 2.2 신경망을 위한 데이터 표현\n",
        "2.2.1 스칼라(0D 텐서)"
      ],
      "metadata": {
        "id": "vSOxRbxklwdg"
      }
    },
    {
      "cell_type": "code",
      "source": [
        "import numpy as np\n",
        "x = np.array(12)"
      ],
      "metadata": {
        "id": "VMvm1QeNl1Mt"
      },
      "execution_count": null,
      "outputs": []
    },
    {
      "cell_type": "code",
      "source": [
        "x"
      ],
      "metadata": {
        "colab": {
          "base_uri": "https://localhost:8080/"
        },
        "id": "jIxevuEsmGgb",
        "outputId": "64839e8f-db15-4a2a-8677-49fea0dd63cc"
      },
      "execution_count": null,
      "outputs": [
        {
          "output_type": "execute_result",
          "data": {
            "text/plain": [
              "array(12)"
            ]
          },
          "metadata": {},
          "execution_count": 2
        }
      ]
    },
    {
      "cell_type": "code",
      "source": [
        "x.ndim"
      ],
      "metadata": {
        "colab": {
          "base_uri": "https://localhost:8080/"
        },
        "id": "8IsDpYpBmOAY",
        "outputId": "5d252e7a-b797-410d-fb53-993819a7422a"
      },
      "execution_count": null,
      "outputs": [
        {
          "output_type": "execute_result",
          "data": {
            "text/plain": [
              "0"
            ]
          },
          "metadata": {},
          "execution_count": 3
        }
      ]
    },
    {
      "cell_type": "markdown",
      "source": [
        "2.2.2 벡터(1D 텐서)"
      ],
      "metadata": {
        "id": "QcTddpR9mO5Z"
      }
    },
    {
      "cell_type": "code",
      "source": [
        "x = np.array([12, 3, 6, 14, 7])"
      ],
      "metadata": {
        "id": "BEwHFpvomVes"
      },
      "execution_count": null,
      "outputs": []
    },
    {
      "cell_type": "code",
      "source": [
        "x"
      ],
      "metadata": {
        "colab": {
          "base_uri": "https://localhost:8080/"
        },
        "id": "B8nh4ftpma-a",
        "outputId": "d30caf4f-8446-486c-8ea8-59c16670bcfc"
      },
      "execution_count": null,
      "outputs": [
        {
          "output_type": "execute_result",
          "data": {
            "text/plain": [
              "array([12,  3,  6, 14,  7])"
            ]
          },
          "metadata": {},
          "execution_count": 5
        }
      ]
    },
    {
      "cell_type": "code",
      "source": [
        "x.ndim"
      ],
      "metadata": {
        "colab": {
          "base_uri": "https://localhost:8080/"
        },
        "id": "5uetfPtimbeP",
        "outputId": "a942ec48-5a63-49c8-803c-2aa9ac0fe073"
      },
      "execution_count": null,
      "outputs": [
        {
          "output_type": "execute_result",
          "data": {
            "text/plain": [
              "1"
            ]
          },
          "metadata": {},
          "execution_count": 6
        }
      ]
    },
    {
      "cell_type": "markdown",
      "source": [
        "2.2.3 행렬(2D 텐서)"
      ],
      "metadata": {
        "id": "ExiuGqLhmcL6"
      }
    },
    {
      "cell_type": "code",
      "source": [
        "x = np.array([[1,2,3,4,5],[6,7,8,9,10],[11,12,13,14,15]])\n"
      ],
      "metadata": {
        "id": "Y_1tmLEimiuz"
      },
      "execution_count": null,
      "outputs": []
    },
    {
      "cell_type": "code",
      "source": [
        "x.ndim"
      ],
      "metadata": {
        "colab": {
          "base_uri": "https://localhost:8080/"
        },
        "id": "xeKF7IJVmvDB",
        "outputId": "6e6da400-5404-4c73-db02-44cfaf2a5e26"
      },
      "execution_count": null,
      "outputs": [
        {
          "output_type": "execute_result",
          "data": {
            "text/plain": [
              "2"
            ]
          },
          "metadata": {},
          "execution_count": 22
        }
      ]
    },
    {
      "cell_type": "code",
      "source": [
        "print(x.shape)\n",
        "print(len(x.shape))\n",
        "print(x.shape[0]) #행\n",
        "print(x.shape[1]) #열"
      ],
      "metadata": {
        "colab": {
          "base_uri": "https://localhost:8080/"
        },
        "id": "48xd0Hys5Du4",
        "outputId": "3b6347f2-071c-4510-fdb7-bed9e9d01300"
      },
      "execution_count": null,
      "outputs": [
        {
          "output_type": "stream",
          "name": "stdout",
          "text": [
            "(3, 5)\n",
            "2\n",
            "3\n",
            "5\n"
          ]
        }
      ]
    },
    {
      "cell_type": "markdown",
      "source": [
        "2.2.4 3D 텐서와 고차원 텐서"
      ],
      "metadata": {
        "id": "22n4uoW9m2OP"
      }
    },
    {
      "cell_type": "code",
      "source": [
        "x = np.array([[[1,2,3,4],[4,3,2,1],[1,1,1,1]],[[1,2,3,4],[4,3,2,1],[1,1,1,1]],[[1,2,3,4],[4,3,2,1],[1,1,1,1]]])"
      ],
      "metadata": {
        "id": "TDemobaym7FW"
      },
      "execution_count": null,
      "outputs": []
    },
    {
      "cell_type": "code",
      "source": [
        "x.ndim"
      ],
      "metadata": {
        "colab": {
          "base_uri": "https://localhost:8080/"
        },
        "id": "znD9K8tvnJPe",
        "outputId": "956d2e0b-65fe-40a5-8571-d26e8cef349b"
      },
      "execution_count": null,
      "outputs": [
        {
          "output_type": "execute_result",
          "data": {
            "text/plain": [
              "3"
            ]
          },
          "metadata": {},
          "execution_count": 10
        }
      ]
    },
    {
      "cell_type": "code",
      "source": [
        ""
      ],
      "metadata": {
        "id": "BOMjrLj_nVSS"
      },
      "execution_count": null,
      "outputs": []
    }
  ]
}