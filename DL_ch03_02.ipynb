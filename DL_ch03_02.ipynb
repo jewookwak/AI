{
  "nbformat": 4,
  "nbformat_minor": 0,
  "metadata": {
    "colab": {
      "name": "DL_ch03_02.ipynb",
      "provenance": [],
      "collapsed_sections": [],
      "authorship_tag": "ABX9TyO0/pIynfNRkiCLhZIkd/5M",
      "include_colab_link": true
    },
    "kernelspec": {
      "name": "python3",
      "display_name": "Python 3"
    },
    "language_info": {
      "name": "python"
    }
  },
  "cells": [
    {
      "cell_type": "markdown",
      "metadata": {
        "id": "view-in-github",
        "colab_type": "text"
      },
      "source": [
        "<a href=\"https://colab.research.google.com/github/jewookwak/AI/blob/master/DL_ch03_02.ipynb\" target=\"_parent\"><img src=\"https://colab.research.google.com/assets/colab-badge.svg\" alt=\"Open In Colab\"/></a>"
      ]
    },
    {
      "cell_type": "markdown",
      "source": [
        "## 뉴스 기사 분류: 다중 분류 문제\n",
        "\n"
      ],
      "metadata": {
        "id": "t48NlK2zwR2N"
      }
    },
    {
      "cell_type": "markdown",
      "source": [
        "# 로이터 데이터셋\n",
        "- 1986년에 로이터에서 공개한 짧은 뉴스 기사와 토픽의 집합\n",
        "- 46개의 토픽이 있으며 어떤 토픽은 다른 것에 비해 데이터가 많음.\n",
        "- 각 토픽은 훈련 세트에 최소한 10개의 샘플을 가지고 있음."
      ],
      "metadata": {
        "id": "N3goWPEmw1sH"
      }
    },
    {
      "cell_type": "code",
      "source": [
        "from keras.datasets import reuters\n",
        "\n",
        "(train_data, train_labels), (test_data, test_labels) = reuters.load_data(num_words = 10000) # num_words =10000 -> 데이터에서 가장 자주 등장하는 단어 1만 개로 제한"
      ],
      "metadata": {
        "id": "5BmZLg48xCn4"
      },
      "execution_count": null,
      "outputs": []
    },
    {
      "cell_type": "code",
      "source": [
        "print(len(train_data))\n",
        "print(len(test_data))"
      ],
      "metadata": {
        "colab": {
          "base_uri": "https://localhost:8080/"
        },
        "id": "gU1tUolGx4J8",
        "outputId": "8bdffba3-660a-4a21-c4d3-bcdd48f84d75"
      },
      "execution_count": null,
      "outputs": [
        {
          "output_type": "stream",
          "name": "stdout",
          "text": [
            "8982\n",
            "2246\n"
          ]
        }
      ]
    },
    {
      "cell_type": "code",
      "source": [
        "train_data[10]  # 각 샘플은 정수 리스트 (단어 인덱스)"
      ],
      "metadata": {
        "colab": {
          "base_uri": "https://localhost:8080/"
        },
        "id": "03h-MIdGyJjM",
        "outputId": "011411e8-dcc7-4ba9-f1ce-b7044944cbcc"
      },
      "execution_count": null,
      "outputs": [
        {
          "output_type": "execute_result",
          "data": {
            "text/plain": [
              "[1,\n",
              " 245,\n",
              " 273,\n",
              " 207,\n",
              " 156,\n",
              " 53,\n",
              " 74,\n",
              " 160,\n",
              " 26,\n",
              " 14,\n",
              " 46,\n",
              " 296,\n",
              " 26,\n",
              " 39,\n",
              " 74,\n",
              " 2979,\n",
              " 3554,\n",
              " 14,\n",
              " 46,\n",
              " 4689,\n",
              " 4329,\n",
              " 86,\n",
              " 61,\n",
              " 3499,\n",
              " 4795,\n",
              " 14,\n",
              " 61,\n",
              " 451,\n",
              " 4329,\n",
              " 17,\n",
              " 12]"
            ]
          },
          "metadata": {},
          "execution_count": 37
        }
      ]
    },
    {
      "cell_type": "code",
      "source": [
        "#로이터 데이터셋을 텍스트로 디코딩하기\n",
        "word_index = reuters.get_word_index()\n",
        "resverse_word_index = dict([(value,key) for (key, value) in word_index.items()])\n",
        "decoded_newswire = ' '.join([resverse_word_index.get(i-3,'?') for i in train_data[0]])"
      ],
      "metadata": {
        "id": "6UVWXTLeyMla"
      },
      "execution_count": null,
      "outputs": []
    },
    {
      "cell_type": "code",
      "source": [
        "train_labels[10] # 샘플에 연결된 레이블은 토픽의 인덱스로 0과 45 사이의 정수"
      ],
      "metadata": {
        "colab": {
          "base_uri": "https://localhost:8080/"
        },
        "id": "2dt00nGuyxVP",
        "outputId": "c575b3e2-505e-4537-e62c-f8d14ea3a08e"
      },
      "execution_count": null,
      "outputs": [
        {
          "output_type": "execute_result",
          "data": {
            "text/plain": [
              "3"
            ]
          },
          "metadata": {},
          "execution_count": 39
        }
      ]
    },
    {
      "cell_type": "code",
      "source": [
        "import numpy as np\n",
        "\n",
        "def vectorize_sequences(sequences, dimension= 10000):\n",
        "  results = np.zeros((len(sequences), dimension))\n",
        "  for i, sequence in  enumerate(sequences):\n",
        "    results[i, sequence] = 1.\n",
        "  return results\n",
        "x_train = vectorize_sequences(train_data)\n",
        "x_test = vectorize_sequences(test_data)"
      ],
      "metadata": {
        "id": "AZ0cuq0XzHs1"
      },
      "execution_count": null,
      "outputs": []
    },
    {
      "cell_type": "code",
      "source": [
        "k = np.zeros((8982,10000))"
      ],
      "metadata": {
        "id": "JN9B_7jezMs-"
      },
      "execution_count": null,
      "outputs": []
    },
    {
      "cell_type": "code",
      "source": [
        "k.shape"
      ],
      "metadata": {
        "colab": {
          "base_uri": "https://localhost:8080/"
        },
        "id": "_IS-0F3B0es4",
        "outputId": "1d72780d-b8f2-4e4b-8d56-9d5fa1ae5845"
      },
      "execution_count": null,
      "outputs": [
        {
          "output_type": "execute_result",
          "data": {
            "text/plain": [
              "(8982, 10000)"
            ]
          },
          "metadata": {},
          "execution_count": 42
        }
      ]
    },
    {
      "cell_type": "code",
      "source": [
        "k[0,1] = 1.\n",
        "k[1,245] = 1."
      ],
      "metadata": {
        "id": "9LlCg4x-0u0Y"
      },
      "execution_count": null,
      "outputs": []
    },
    {
      "cell_type": "code",
      "source": [
        "k"
      ],
      "metadata": {
        "colab": {
          "base_uri": "https://localhost:8080/"
        },
        "id": "9NCBs3vV1L07",
        "outputId": "f3638340-c1dd-4878-feae-3a20ef8237f1"
      },
      "execution_count": null,
      "outputs": [
        {
          "output_type": "execute_result",
          "data": {
            "text/plain": [
              "array([[0., 1., 0., ..., 0., 0., 0.],\n",
              "       [0., 0., 0., ..., 0., 0., 0.],\n",
              "       [0., 0., 0., ..., 0., 0., 0.],\n",
              "       ...,\n",
              "       [0., 0., 0., ..., 0., 0., 0.],\n",
              "       [0., 0., 0., ..., 0., 0., 0.],\n",
              "       [0., 0., 0., ..., 0., 0., 0.]])"
            ]
          },
          "metadata": {},
          "execution_count": 44
        }
      ]
    },
    {
      "cell_type": "markdown",
      "source": [
        "원-핫 인코딩이 범주형 데이터에 널리 사용되기 때문에 범주형 인코딩(categorical encoding)이라고도 부릅니다."
      ],
      "metadata": {
        "id": "mpeZskFKz6iK"
      }
    },
    {
      "cell_type": "code",
      "source": [
        "def to_one_hot(labels, dimension=46):\n",
        "  results = np.zeros((len(labels),dimension))\n",
        "  for i, label in enumerate(labels):\n",
        "    results[i, label] = 1.\n",
        "    return results\n",
        "\n",
        "one_hot_train_labels = to_one_hot(train_labels)\n",
        "one_hot_test_labels = to_one_hot(test_labels)"
      ],
      "metadata": {
        "id": "2ZOAPIjv1V2M"
      },
      "execution_count": null,
      "outputs": []
    },
    {
      "cell_type": "markdown",
      "source": [
        "주석 \n",
        "- IMDB와 로이터 데이터셋은 미리 전체 데이터셋의 단어를 고유한 정수 인덱스로 바꾼 후에 훈련 데이터와 테스트 데이터로 나누어 놓은 것입니다. 일반적으로는 훈련 데이터에서 구축한 어휘 사전으로 테스트 세트를 변환합니다. 이렇게 하는 이유는 실전에서 샘플에 어떤 텍스트가 들어 있을지 알 수 없기 때문에 테스트 세트의 어휘를 이용하면 낙관적으로 테스트 세트를 평가하는 셈이 되기 때문입니다.\n",
        "- to_one_hot() 함수는 labels 매개변수를 제외하고는 앞에 정의된 vectorize_sequences()와 동일합니다. train_data와 test_data는 파이썬 리스트의 넘파이 배열이기 때문에 to_categorical() 함수를 사용하지 못합니다. x_train과 x_test의 크기는 각각 (8982,10000), (2246,10000)이 되고 one_hot_train_labels와 one_hot_test_labels의 크기는 각각 (8982, 46). (2246, 46)이 됩니다."
      ],
      "metadata": {
        "id": "VNP_uzqMkeXi"
      }
    },
    {
      "cell_type": "code",
      "source": [
        "from keras.utils.np_utils import to_categorical  #케라스 내장 함수\n",
        "\n",
        "one_hot_train_labels = to_categorical(train_labels)\n",
        "one_hot_test_labels = to_categorical(test_labels)"
      ],
      "metadata": {
        "id": "9HLevQQdlU-x"
      },
      "execution_count": null,
      "outputs": []
    },
    {
      "cell_type": "markdown",
      "source": [
        "# 모델 구성\n",
        "- 출력 클래스의 개수 : 2 -> 46  증가  \n",
        "- 출력 공간의 차원이 훨씬 커짐.\n",
        "- 정보의 병목 : 이전에 2class classification에서 처럼 Dense 층을 쌓으면, 각 층은 이전 층의 출력에서 제공한 정보만 사용할 수 있기 때문에 한 층이 분류 문제에 필요한 일부 정보를 누락하면 그다음 층에서 이를 복원할 방법이 없습니다.\n",
        "- 이전 예제에서 16차원을 가진 중간층을 사용했음. \n",
        "- 16차원 공간은 46개의 클래스를 구분하기에 너무 제약이 많기 때문에 병목 지점처럼 동작할 수 있음.\n",
        "- 따라서 더 규모가 큰 층을 사용 -> 64개 유닛 사용."
      ],
      "metadata": {
        "id": "oq06BJ9wmvYc"
      }
    },
    {
      "cell_type": "code",
      "source": [
        "from keras import models\n",
        "from keras import layers\n",
        "\n",
        "model = models.Sequential()\n",
        "model.add(layers.Dense(64, activation='relu', input_shape = (10000,)))\n",
        "model.add(layers.Dense(64, activation='relu'))\n",
        "model.add(layers.Dense(46, activation = 'softmax'))"
      ],
      "metadata": {
        "id": "ioIGEKF9ob7y"
      },
      "execution_count": null,
      "outputs": []
    },
    {
      "cell_type": "markdown",
      "source": [
        "- 손실 함수 : categorical_crossentropy 사용 (multi class classification 문제이기 때문)\n",
        "- categorical_crossentropy는 두 확률 분포 사이의 거리를 측정\n",
        "- 여기에서는 네트워크가 출력한 확률 분포와 진짜 레이블의 분포 사이의 거리\n",
        "- 두 분포 사이의 거리를 최소화하면 진짜 레이블에 가능한 가까운 출력을 내도록 모델을 훈련하게 됨.\n"
      ],
      "metadata": {
        "id": "HI6jxZnoo4TC"
      }
    },
    {
      "cell_type": "code",
      "source": [
        "model.compile(optimizer='rmsprop', loss='categorical_crossentropy',metrics=['accuracy'])"
      ],
      "metadata": {
        "id": "SqClHmEvp7dF"
      },
      "execution_count": null,
      "outputs": []
    },
    {
      "cell_type": "markdown",
      "source": [
        "# 훈련 검증\n",
        "훈련 데이터에서 1,000개의 샘플을 따로 떼어서 검증 세트로 사용함."
      ],
      "metadata": {
        "id": "XNQWj6mXqGhw"
      }
    },
    {
      "cell_type": "code",
      "source": [
        "x_val = x_train[:1000]\n",
        "partial_x_train = x_train[1000:]\n",
        "\n",
        "y_val = one_hot_train_labels[:1000]\n",
        "partial_y_train = one_hot_train_labels[1000:]"
      ],
      "metadata": {
        "id": "WtySDiyRqRyC"
      },
      "execution_count": null,
      "outputs": []
    },
    {
      "cell_type": "markdown",
      "source": [
        "20번의 에포크로 모델을 훈련함."
      ],
      "metadata": {
        "id": "FpjSFbAkqmX_"
      }
    },
    {
      "cell_type": "code",
      "source": [
        "history = model.fit(partial_x_train, partial_y_train, epochs = 20, batch_size =512, validation_data=(x_val,y_val))"
      ],
      "metadata": {
        "colab": {
          "base_uri": "https://localhost:8080/"
        },
        "id": "EcjP8GSzqrJD",
        "outputId": "b062f00e-da54-47e9-abcf-edd8b8414de9"
      },
      "execution_count": null,
      "outputs": [
        {
          "output_type": "stream",
          "name": "stdout",
          "text": [
            "Epoch 1/20\n",
            "16/16 [==============================] - 2s 87ms/step - loss: 2.6013 - accuracy: 0.5476 - val_loss: 1.7212 - val_accuracy: 0.6410\n",
            "Epoch 2/20\n",
            "16/16 [==============================] - 2s 100ms/step - loss: 1.4083 - accuracy: 0.7110 - val_loss: 1.2810 - val_accuracy: 0.7320\n",
            "Epoch 3/20\n",
            "16/16 [==============================] - 2s 107ms/step - loss: 1.0332 - accuracy: 0.7777 - val_loss: 1.1138 - val_accuracy: 0.7650\n",
            "Epoch 4/20\n",
            "16/16 [==============================] - 1s 88ms/step - loss: 0.8124 - accuracy: 0.8281 - val_loss: 1.0377 - val_accuracy: 0.7670\n",
            "Epoch 5/20\n",
            "16/16 [==============================] - 1s 59ms/step - loss: 0.6451 - accuracy: 0.8673 - val_loss: 0.9699 - val_accuracy: 0.7860\n",
            "Epoch 6/20\n",
            "16/16 [==============================] - 1s 77ms/step - loss: 0.5128 - accuracy: 0.8949 - val_loss: 0.9530 - val_accuracy: 0.8040\n",
            "Epoch 7/20\n",
            "16/16 [==============================] - 1s 65ms/step - loss: 0.4142 - accuracy: 0.9163 - val_loss: 0.9024 - val_accuracy: 0.8140\n",
            "Epoch 8/20\n",
            "16/16 [==============================] - 1s 93ms/step - loss: 0.3363 - accuracy: 0.9282 - val_loss: 0.8934 - val_accuracy: 0.8050\n",
            "Epoch 9/20\n",
            "16/16 [==============================] - 2s 98ms/step - loss: 0.2803 - accuracy: 0.9379 - val_loss: 0.8872 - val_accuracy: 0.8150\n",
            "Epoch 10/20\n",
            "16/16 [==============================] - 2s 127ms/step - loss: 0.2372 - accuracy: 0.9450 - val_loss: 0.9221 - val_accuracy: 0.8060\n",
            "Epoch 11/20\n",
            "16/16 [==============================] - 1s 57ms/step - loss: 0.2062 - accuracy: 0.9496 - val_loss: 0.9333 - val_accuracy: 0.8120\n",
            "Epoch 12/20\n",
            "16/16 [==============================] - 1s 58ms/step - loss: 0.1821 - accuracy: 0.9500 - val_loss: 0.9052 - val_accuracy: 0.8200\n",
            "Epoch 13/20\n",
            "16/16 [==============================] - 1s 58ms/step - loss: 0.1630 - accuracy: 0.9538 - val_loss: 0.9618 - val_accuracy: 0.8090\n",
            "Epoch 14/20\n",
            "16/16 [==============================] - 1s 58ms/step - loss: 0.1509 - accuracy: 0.9545 - val_loss: 0.9536 - val_accuracy: 0.8140\n",
            "Epoch 15/20\n",
            "16/16 [==============================] - 1s 58ms/step - loss: 0.1399 - accuracy: 0.9549 - val_loss: 0.9671 - val_accuracy: 0.8130\n",
            "Epoch 16/20\n",
            "16/16 [==============================] - 1s 58ms/step - loss: 0.1319 - accuracy: 0.9577 - val_loss: 0.9670 - val_accuracy: 0.8140\n",
            "Epoch 17/20\n",
            "16/16 [==============================] - 1s 59ms/step - loss: 0.1249 - accuracy: 0.9578 - val_loss: 1.0541 - val_accuracy: 0.8020\n",
            "Epoch 18/20\n",
            "16/16 [==============================] - 1s 57ms/step - loss: 0.1188 - accuracy: 0.9577 - val_loss: 1.0638 - val_accuracy: 0.7980\n",
            "Epoch 19/20\n",
            "16/16 [==============================] - 1s 58ms/step - loss: 0.1133 - accuracy: 0.9582 - val_loss: 1.0401 - val_accuracy: 0.8030\n",
            "Epoch 20/20\n",
            "16/16 [==============================] - 1s 56ms/step - loss: 0.1134 - accuracy: 0.9584 - val_loss: 1.0683 - val_accuracy: 0.7990\n"
          ]
        }
      ]
    },
    {
      "cell_type": "code",
      "source": [
        "import matplotlib.pyplot as plt\n",
        "plt.clf()\n",
        "loss = history.history['loss']\n",
        "val_loss = history.history['val_loss']\n",
        "\n",
        "epochs = range(1, len(loss) + 1)\n",
        "\n",
        "plt.plot(epochs, loss, 'bo', label = 'Training loss')\n",
        "plt.plot(epochs, val_loss,'b', label = 'Validation loss')\n",
        "plt.title('Training and validation loss')\n",
        "plt.xlabel('Epochs')\n",
        "plt.ylabel('Loss')\n",
        "plt.legend()\n",
        "plt.show()"
      ],
      "metadata": {
        "colab": {
          "base_uri": "https://localhost:8080/",
          "height": 295
        },
        "id": "wSonIte8q5nx",
        "outputId": "f4edb754-2a61-49e7-999f-90be3b8a006e"
      },
      "execution_count": null,
      "outputs": [
        {
          "output_type": "display_data",
          "data": {
            "text/plain": [
              "<Figure size 432x288 with 1 Axes>"
            ],
            "image/png": "[encoded data removed]"
          },
          "metadata": {
            "needs_background": "light"
          }
        }
      ]
    },
    {
      "cell_type": "code",
      "source": [
        "plt.clf()\n",
        "\n",
        "acc = history.history['accuracy']\n",
        "val_acc = history.history['val_accuracy']\n",
        "\n",
        "plt.plot(epochs, acc, 'bo', label = 'Training acc')\n",
        "plt.plot(epochs, val_acc, 'b', label = 'Validation acc')\n",
        "plt.title('Training and validation accuracy')\n",
        "plt.xlabel('Epochs')\n",
        "plt.ylabel('Accuracy')\n",
        "plt.legend()\n",
        "plt.show()"
      ],
      "metadata": {
        "colab": {
          "base_uri": "https://localhost:8080/",
          "height": 295
        },
        "id": "yuv74TJDrmcp",
        "outputId": "ff74a3d9-eae5-4a1d-c39d-6c1ba09ca6f9"
      },
      "execution_count": null,
      "outputs": [
        {
          "output_type": "display_data",
          "data": {
            "text/plain": [
              "<Figure size 432x288 with 1 Axes>"
            ],
            "image/png": "[encoded data removed]"
          },
          "metadata": {
            "needs_background": "light"
          }
        }
      ]
    },
    {
      "cell_type": "code",
      "source": [
        "acc = history.history['accuracy']"
      ],
      "metadata": {
        "id": "KbBZVW_-s_Yq"
      },
      "execution_count": null,
      "outputs": []
    },
    {
      "cell_type": "markdown",
      "source": [
        "- 모델은 아홉 번째 에포크 이후에 과대적합이 시작됨.\n",
        "- 아홉 번의 에포크로 새로운 모델을 훈련하고 테스트 세트에서 평가 진행."
      ],
      "metadata": {
        "id": "yPKHHmghuGvx"
      }
    },
    {
      "cell_type": "code",
      "source": [
        "model = models.Sequential()\n",
        "model.add(layers.Dense(64, activation='relu', input_shape=(10000,)))\n",
        "model.add(layers.Dense(64, activation='relu'))\n",
        "model.add(layers.Dense(46, activation='softmax'))\n",
        "\n",
        "model.compile(optimizer='rmsprop', loss='categorical_crossentropy',metrics=['accuracy'])\n",
        "model.fit(partial_x_train,partial_y_train,epochs=9, batch_size = 512, validation_data = (x_val, y_val))\n",
        "results = model.evaluate(x_test, one_hot_test_labels)"
      ],
      "metadata": {
        "colab": {
          "base_uri": "https://localhost:8080/"
        },
        "id": "hGyHjHYLvJB2",
        "outputId": "80457e61-ebf0-4ba0-b102-085d417e5a05"
      },
      "execution_count": null,
      "outputs": [
        {
          "output_type": "stream",
          "name": "stdout",
          "text": [
            "Epoch 1/9\n",
            "16/16 [==============================] - 2s 70ms/step - loss: 2.6433 - accuracy: 0.5437 - val_loss: 1.7253 - val_accuracy: 0.6480\n",
            "Epoch 2/9\n",
            "16/16 [==============================] - 1s 55ms/step - loss: 1.3906 - accuracy: 0.7150 - val_loss: 1.2757 - val_accuracy: 0.7350\n",
            "Epoch 3/9\n",
            "16/16 [==============================] - 1s 54ms/step - loss: 1.0194 - accuracy: 0.7843 - val_loss: 1.1095 - val_accuracy: 0.7560\n",
            "Epoch 4/9\n",
            "16/16 [==============================] - 1s 54ms/step - loss: 0.7980 - accuracy: 0.8321 - val_loss: 1.0030 - val_accuracy: 0.7830\n",
            "Epoch 5/9\n",
            "16/16 [==============================] - 1s 52ms/step - loss: 0.6320 - accuracy: 0.8697 - val_loss: 0.9357 - val_accuracy: 0.8080\n",
            "Epoch 6/9\n",
            "16/16 [==============================] - 1s 54ms/step - loss: 0.5022 - accuracy: 0.8953 - val_loss: 0.8922 - val_accuracy: 0.8160\n",
            "Epoch 7/9\n",
            "16/16 [==============================] - 1s 54ms/step - loss: 0.4059 - accuracy: 0.9143 - val_loss: 0.8853 - val_accuracy: 0.8110\n",
            "Epoch 8/9\n",
            "16/16 [==============================] - 1s 53ms/step - loss: 0.3306 - accuracy: 0.9292 - val_loss: 0.8999 - val_accuracy: 0.8020\n",
            "Epoch 9/9\n",
            "16/16 [==============================] - 1s 53ms/step - loss: 0.2776 - accuracy: 0.9390 - val_loss: 0.8682 - val_accuracy: 0.8170\n",
            "71/71 [==============================] - 0s 4ms/step - loss: 0.9978 - accuracy: 0.7845\n"
          ]
        }
      ]
    },
    {
      "cell_type": "code",
      "source": [
        "results"
      ],
      "metadata": {
        "colab": {
          "base_uri": "https://localhost:8080/"
        },
        "id": "mKiDFDFiv6Oh",
        "outputId": "f7360c50-7689-4d8d-b011-8711ea4b39ee"
      },
      "execution_count": null,
      "outputs": [
        {
          "output_type": "execute_result",
          "data": {
            "text/plain": [
              "[0.997810423374176, 0.7845057845115662]"
            ]
          },
          "metadata": {},
          "execution_count": 56
        }
      ]
    },
    {
      "cell_type": "markdown",
      "source": [
        "- 대략 78%의 정확도 달성!\n",
        "- 무작위로 분류했을 때 18% 정도의 정확도를 갖음. 18% << 78%"
      ],
      "metadata": {
        "id": "QXegQptWwLYk"
      }
    },
    {
      "cell_type": "code",
      "source": [
        "import copy\n",
        "test_labels_copy = copy.copy(test_labels)\n",
        "np.random.shuffle(test_labels_copy)\n",
        "hits_array = np.array(test_labels) == np.array(test_labels_copy)\n",
        "float(np.sum(hits_array))/len(test_labels)"
      ],
      "metadata": {
        "colab": {
          "base_uri": "https://localhost:8080/"
        },
        "id": "g65W_fP7wjRC",
        "outputId": "6dba560a-39d7-4f5d-c4e2-247ef0e4fca3"
      },
      "execution_count": null,
      "outputs": [
        {
          "output_type": "execute_result",
          "data": {
            "text/plain": [
              "0.17853962600178094"
            ]
          },
          "metadata": {},
          "execution_count": 58
        }
      ]
    },
    {
      "cell_type": "markdown",
      "source": [
        "# 새로운 데이터에 대해 예측\n",
        "- 모델 객체의 predict 메서드는 46개의 토픽에대한 확률 분포를 반환\n",
        "- 테스트 데이터 전체에 대한 토픽을 예측"
      ],
      "metadata": {
        "id": "B55QDEWWw5qV"
      }
    },
    {
      "cell_type": "code",
      "source": [
        "predictions = model.predict(x_test)"
      ],
      "metadata": {
        "id": "0ouUhbYcxdUM"
      },
      "execution_count": null,
      "outputs": []
    },
    {
      "cell_type": "markdown",
      "source": [
        "precdictions의 각 항목은 길이가 46인 벡터"
      ],
      "metadata": {
        "id": "ZbsbvazSxkIe"
      }
    },
    {
      "cell_type": "code",
      "source": [
        "predictions[0].shape"
      ],
      "metadata": {
        "colab": {
          "base_uri": "https://localhost:8080/"
        },
        "id": "1RwCmhQex0JH",
        "outputId": "bf68961d-bddf-4b98-e630-52ad7077b29f"
      },
      "execution_count": null,
      "outputs": [
        {
          "output_type": "execute_result",
          "data": {
            "text/plain": [
              "(46,)"
            ]
          },
          "metadata": {},
          "execution_count": 62
        }
      ]
    },
    {
      "cell_type": "markdown",
      "source": [
        "이 벡터의 원소 합은 1"
      ],
      "metadata": {
        "id": "wvFTjoM6x20b"
      }
    },
    {
      "cell_type": "code",
      "source": [
        "np.sum(predictions[0])"
      ],
      "metadata": {
        "colab": {
          "base_uri": "https://localhost:8080/"
        },
        "id": "CRSYtchgx7mv",
        "outputId": "e7477721-c53f-4529-d09c-e930a329830f"
      },
      "execution_count": null,
      "outputs": [
        {
          "output_type": "execute_result",
          "data": {
            "text/plain": [
              "1.0000001"
            ]
          },
          "metadata": {},
          "execution_count": 63
        }
      ]
    },
    {
      "cell_type": "markdown",
      "source": [
        "가장 큰 값이 예측 클래스가 됨. 즉, 가장 확률이 높은 클래스"
      ],
      "metadata": {
        "id": "yhKYBHHKx9yQ"
      }
    },
    {
      "cell_type": "code",
      "source": [
        "np.argmax(predictions[0])"
      ],
      "metadata": {
        "colab": {
          "base_uri": "https://localhost:8080/"
        },
        "id": "pqc4NuiJyKv0",
        "outputId": "42dee656-7b34-4bad-f217-bb33204b6831"
      },
      "execution_count": null,
      "outputs": [
        {
          "output_type": "execute_result",
          "data": {
            "text/plain": [
              "3"
            ]
          },
          "metadata": {},
          "execution_count": 64
        }
      ]
    },
    {
      "cell_type": "markdown",
      "source": [
        "# 레이블과 손실을 다루는 방법\n",
        "**레이블을 인코딩하는 다른 방법** : 다음과 같이 정수 텐서로 변환"
      ],
      "metadata": {
        "id": "VKErt46HyPFl"
      }
    },
    {
      "cell_type": "code",
      "source": [
        "y_train = np.array(train_labels)\n",
        "y_test = np.array(test_labels)"
      ],
      "metadata": {
        "id": "0zCesphsyv_d"
      },
      "execution_count": null,
      "outputs": []
    },
    {
      "cell_type": "markdown",
      "source": [
        "- 이 방식을 사용하려면 손실 함수 하나만 바꾸면 됨.\n",
        "- categorical_crossentropy : 레이블이 범주형으로 인코딩 되어 있을 때 사용.  \n",
        "(범주형 데이터는 'A', 'B', 'C'와 같이 종류를 표시하는 데이터를 말한다. 카테고리(category( 데이터라고도 부른다.)\n",
        "- sparse_categorical_crossentropy : 레이블이 정수형으로 인코딩 되어 있을 때 사용."
      ],
      "metadata": {
        "id": "8cJni2pGy3oV"
      }
    },
    {
      "cell_type": "code",
      "source": [
        "model.compile(optimizer='rmsprop',loss='sparse_catergorical_crossentropy',metrics=['acc'])"
      ],
      "metadata": {
        "id": "vbOla3i70tNX"
      },
      "execution_count": null,
      "outputs": []
    },
    {
      "cell_type": "markdown",
      "source": [
        "이 손실 함수는 인터페이스만 다를 뿐 수학적으로 catergorical_crossentropy와 동일"
      ],
      "metadata": {
        "id": "EmHhjyBm03-3"
      }
    },
    {
      "cell_type": "markdown",
      "source": [
        "# 충분히 큰 중간층을 두어야 하는 이유\n",
        "- 병목 현상 확인"
      ],
      "metadata": {
        "id": "qoNagbaR0_RU"
      }
    },
    {
      "cell_type": "code",
      "source": [
        "model = models.Sequential()\n",
        "model.add(layers.Dense(64, activation='relu', input_shape=(10000,)))\n",
        "model.add(layers.Dense(4, activation='relu'))\n",
        "model.add(layers.Dense(46, activation='softmax'))\n",
        "\n",
        "model.compile(optimizer='rmsprop', loss='categorical_crossentropy',metrics=['accuracy'])\n",
        "model.fit(partial_x_train,partial_y_train,epochs=20, batch_size = 128, validation_data = (x_val, y_val))"
      ],
      "metadata": {
        "colab": {
          "base_uri": "https://localhost:8080/"
        },
        "id": "9ypu3cgu1LeC",
        "outputId": "37bb31b3-5bae-4629-fa23-abd7369fce8b"
      },
      "execution_count": null,
      "outputs": [
        {
          "output_type": "stream",
          "name": "stdout",
          "text": [
            "Epoch 1/20\n",
            "63/63 [==============================] - 2s 23ms/step - loss: 3.1373 - accuracy: 0.0712 - val_loss: 2.4442 - val_accuracy: 0.2820\n",
            "Epoch 2/20\n",
            "63/63 [==============================] - 1s 19ms/step - loss: 1.9928 - accuracy: 0.5763 - val_loss: 1.7402 - val_accuracy: 0.5880\n",
            "Epoch 3/20\n",
            "63/63 [==============================] - 1s 19ms/step - loss: 1.5179 - accuracy: 0.6257 - val_loss: 1.5369 - val_accuracy: 0.6260\n",
            "Epoch 4/20\n",
            "63/63 [==============================] - 1s 19ms/step - loss: 1.3324 - accuracy: 0.6508 - val_loss: 1.4687 - val_accuracy: 0.6310\n",
            "Epoch 5/20\n",
            "63/63 [==============================] - 1s 19ms/step - loss: 1.2188 - accuracy: 0.6637 - val_loss: 1.4469 - val_accuracy: 0.6570\n",
            "Epoch 6/20\n",
            "63/63 [==============================] - 1s 19ms/step - loss: 1.1272 - accuracy: 0.7181 - val_loss: 1.4142 - val_accuracy: 0.6760\n",
            "Epoch 7/20\n",
            "63/63 [==============================] - 1s 19ms/step - loss: 1.0490 - accuracy: 0.7326 - val_loss: 1.4476 - val_accuracy: 0.6860\n",
            "Epoch 8/20\n",
            "63/63 [==============================] - 1s 19ms/step - loss: 0.9893 - accuracy: 0.7390 - val_loss: 1.4362 - val_accuracy: 0.6870\n",
            "Epoch 9/20\n",
            "63/63 [==============================] - 1s 19ms/step - loss: 0.9338 - accuracy: 0.7471 - val_loss: 1.4341 - val_accuracy: 0.6860\n",
            "Epoch 10/20\n",
            "63/63 [==============================] - 1s 19ms/step - loss: 0.8887 - accuracy: 0.7503 - val_loss: 1.4985 - val_accuracy: 0.6810\n",
            "Epoch 11/20\n",
            "63/63 [==============================] - 1s 19ms/step - loss: 0.8484 - accuracy: 0.7566 - val_loss: 1.5135 - val_accuracy: 0.6900\n",
            "Epoch 12/20\n",
            "63/63 [==============================] - 1s 19ms/step - loss: 0.8136 - accuracy: 0.7676 - val_loss: 1.5430 - val_accuracy: 0.6840\n",
            "Epoch 13/20\n",
            "63/63 [==============================] - 1s 19ms/step - loss: 0.7817 - accuracy: 0.7732 - val_loss: 1.5582 - val_accuracy: 0.6940\n",
            "Epoch 14/20\n",
            "63/63 [==============================] - 1s 19ms/step - loss: 0.7580 - accuracy: 0.7775 - val_loss: 1.6152 - val_accuracy: 0.6830\n",
            "Epoch 15/20\n",
            "63/63 [==============================] - 2s 31ms/step - loss: 0.7336 - accuracy: 0.7813 - val_loss: 1.6732 - val_accuracy: 0.6800\n",
            "Epoch 16/20\n",
            "63/63 [==============================] - 1s 23ms/step - loss: 0.7118 - accuracy: 0.7821 - val_loss: 1.7100 - val_accuracy: 0.6740\n",
            "Epoch 17/20\n",
            "63/63 [==============================] - 1s 19ms/step - loss: 0.6916 - accuracy: 0.7884 - val_loss: 1.7653 - val_accuracy: 0.6750\n",
            "Epoch 18/20\n",
            "63/63 [==============================] - 1s 19ms/step - loss: 0.6734 - accuracy: 0.8006 - val_loss: 1.7941 - val_accuracy: 0.6730\n",
            "Epoch 19/20\n",
            "63/63 [==============================] - 1s 19ms/step - loss: 0.6540 - accuracy: 0.8125 - val_loss: 1.8397 - val_accuracy: 0.6820\n",
            "Epoch 20/20\n",
            "63/63 [==============================] - 1s 19ms/step - loss: 0.6409 - accuracy: 0.8137 - val_loss: 1.9031 - val_accuracy: 0.6750\n"
          ]
        },
        {
          "output_type": "execute_result",
          "data": {
            "text/plain": [
              "<keras.callbacks.History at 0x7f520b51aa10>"
            ]
          },
          "metadata": {},
          "execution_count": 67
        }
      ]
    },
    {
      "cell_type": "markdown",
      "source": [
        "- validation 정확도 값의 최고값이 68%로 11% 감소했음.\n",
        "- 정확도 하락 원인 : 많은 정보를 중간층의 저차원 표현 공간으로 압축하려고 했기 때문.\n",
        "- 이 네트워크는 필요한 정보 대부분을 4차원 표현 안에 구겨 넣었지만 전부 넣지는 못했음."
      ],
      "metadata": {
        "id": "Up3MOr5f1daT"
      }
    },
    {
      "cell_type": "markdown",
      "source": [
        "# 추가 실험\n",
        "- 128개의 유닛을 사용해 더 큰 층을 구성해서 테스트"
      ],
      "metadata": {
        "id": "BAIMbUq72Mr4"
      }
    },
    {
      "cell_type": "code",
      "source": [
        "model = models.Sequential()\n",
        "model.add(layers.Dense(64, activation='relu', input_shape=(10000,)))\n",
        "model.add(layers.Dense(128, activation='relu'))\n",
        "model.add(layers.Dense(46, activation='softmax'))\n",
        "\n",
        "model.compile(optimizer='rmsprop', loss='categorical_crossentropy',metrics=['accuracy'])\n",
        "model.fit(partial_x_train,partial_y_train,epochs=20, batch_size = 128, validation_data = (x_val, y_val))"
      ],
      "metadata": {
        "colab": {
          "base_uri": "https://localhost:8080/"
        },
        "id": "L22Lm_-D2m33",
        "outputId": "cf55575c-7391-4e18-8258-7b78b10d6d82"
      },
      "execution_count": null,
      "outputs": [
        {
          "output_type": "stream",
          "name": "stdout",
          "text": [
            "Epoch 1/20\n",
            "63/63 [==============================] - 2s 22ms/step - loss: 1.7585 - accuracy: 0.6294 - val_loss: 1.1816 - val_accuracy: 0.7350\n",
            "Epoch 2/20\n",
            "63/63 [==============================] - 1s 19ms/step - loss: 0.9267 - accuracy: 0.7984 - val_loss: 0.9710 - val_accuracy: 0.8010\n",
            "Epoch 3/20\n",
            "63/63 [==============================] - 1s 19ms/step - loss: 0.6087 - accuracy: 0.8691 - val_loss: 0.8942 - val_accuracy: 0.8120\n",
            "Epoch 4/20\n",
            "63/63 [==============================] - 1s 19ms/step - loss: 0.4136 - accuracy: 0.9117 - val_loss: 0.9153 - val_accuracy: 0.8000\n",
            "Epoch 5/20\n",
            "63/63 [==============================] - 1s 19ms/step - loss: 0.2980 - accuracy: 0.9357 - val_loss: 0.8745 - val_accuracy: 0.8270\n",
            "Epoch 6/20\n",
            "63/63 [==============================] - 1s 19ms/step - loss: 0.2343 - accuracy: 0.9450 - val_loss: 0.9299 - val_accuracy: 0.8100\n",
            "Epoch 7/20\n",
            "63/63 [==============================] - 1s 19ms/step - loss: 0.1953 - accuracy: 0.9486 - val_loss: 0.9476 - val_accuracy: 0.8150\n",
            "Epoch 8/20\n",
            "63/63 [==============================] - 1s 19ms/step - loss: 0.1733 - accuracy: 0.9538 - val_loss: 0.9935 - val_accuracy: 0.8150\n",
            "Epoch 9/20\n",
            "63/63 [==============================] - 1s 19ms/step - loss: 0.1569 - accuracy: 0.9539 - val_loss: 1.0439 - val_accuracy: 0.7970\n",
            "Epoch 10/20\n",
            "63/63 [==============================] - 1s 19ms/step - loss: 0.1471 - accuracy: 0.9540 - val_loss: 1.0759 - val_accuracy: 0.7890\n",
            "Epoch 11/20\n",
            "63/63 [==============================] - 1s 19ms/step - loss: 0.1373 - accuracy: 0.9555 - val_loss: 1.0287 - val_accuracy: 0.8080\n",
            "Epoch 12/20\n",
            "63/63 [==============================] - 1s 19ms/step - loss: 0.1326 - accuracy: 0.9560 - val_loss: 1.1107 - val_accuracy: 0.8030\n",
            "Epoch 13/20\n",
            "63/63 [==============================] - 1s 19ms/step - loss: 0.1246 - accuracy: 0.9554 - val_loss: 1.1696 - val_accuracy: 0.7790\n",
            "Epoch 14/20\n",
            "63/63 [==============================] - 1s 19ms/step - loss: 0.1222 - accuracy: 0.9565 - val_loss: 1.1532 - val_accuracy: 0.7910\n",
            "Epoch 15/20\n",
            "63/63 [==============================] - 1s 19ms/step - loss: 0.1204 - accuracy: 0.9555 - val_loss: 1.1535 - val_accuracy: 0.7970\n",
            "Epoch 16/20\n",
            "63/63 [==============================] - 1s 20ms/step - loss: 0.1154 - accuracy: 0.9572 - val_loss: 1.1233 - val_accuracy: 0.8010\n",
            "Epoch 17/20\n",
            "63/63 [==============================] - 1s 19ms/step - loss: 0.1105 - accuracy: 0.9570 - val_loss: 1.1718 - val_accuracy: 0.8010\n",
            "Epoch 18/20\n",
            "63/63 [==============================] - 1s 19ms/step - loss: 0.1048 - accuracy: 0.9562 - val_loss: 1.1490 - val_accuracy: 0.8050\n",
            "Epoch 19/20\n",
            "63/63 [==============================] - 1s 19ms/step - loss: 0.1044 - accuracy: 0.9565 - val_loss: 1.2056 - val_accuracy: 0.7930\n",
            "Epoch 20/20\n",
            "63/63 [==============================] - 1s 19ms/step - loss: 0.1013 - accuracy: 0.9553 - val_loss: 1.2138 - val_accuracy: 0.7990\n"
          ]
        },
        {
          "output_type": "execute_result",
          "data": {
            "text/plain": [
              "<keras.callbacks.History at 0x7f5200138d90>"
            ]
          },
          "metadata": {},
          "execution_count": 68
        }
      ]
    },
    {
      "cell_type": "markdown",
      "source": [
        "validation 데이터 최대 정확도 : 82%로 처음 분석 보다 1% 상승"
      ],
      "metadata": {
        "id": "Ca-VCx9J2o5z"
      }
    },
    {
      "cell_type": "markdown",
      "source": [
        "- 256개의 유닛을 사용한 layer로 테스트"
      ],
      "metadata": {
        "id": "0PUSLb_H3K_d"
      }
    },
    {
      "cell_type": "code",
      "source": [
        "model = models.Sequential()\n",
        "model.add(layers.Dense(64, activation='relu', input_shape=(10000,)))\n",
        "model.add(layers.Dense(256, activation='relu'))\n",
        "model.add(layers.Dense(46, activation='softmax'))\n",
        "\n",
        "model.compile(optimizer='rmsprop', loss='categorical_crossentropy',metrics=['accuracy'])\n",
        "model.fit(partial_x_train,partial_y_train,epochs=20, batch_size = 128, validation_data = (x_val, y_val))"
      ],
      "metadata": {
        "colab": {
          "base_uri": "https://localhost:8080/"
        },
        "id": "bJeumU3n3YXB",
        "outputId": "25af1096-1285-4a7e-f5d5-dabc779d70df"
      },
      "execution_count": null,
      "outputs": [
        {
          "output_type": "stream",
          "name": "stdout",
          "text": [
            "Epoch 1/20\n",
            "63/63 [==============================] - 2s 23ms/step - loss: 1.6600 - accuracy: 0.6460 - val_loss: 1.1660 - val_accuracy: 0.7430\n",
            "Epoch 2/20\n",
            "63/63 [==============================] - 1s 21ms/step - loss: 0.8740 - accuracy: 0.8042 - val_loss: 0.9606 - val_accuracy: 0.7940\n",
            "Epoch 3/20\n",
            "63/63 [==============================] - 1s 20ms/step - loss: 0.5582 - accuracy: 0.8763 - val_loss: 0.9199 - val_accuracy: 0.7940\n",
            "Epoch 4/20\n",
            "63/63 [==============================] - 1s 20ms/step - loss: 0.3709 - accuracy: 0.9173 - val_loss: 0.9277 - val_accuracy: 0.8170\n",
            "Epoch 5/20\n",
            "63/63 [==============================] - 1s 20ms/step - loss: 0.2648 - accuracy: 0.9381 - val_loss: 0.9041 - val_accuracy: 0.8210\n",
            "Epoch 6/20\n",
            "63/63 [==============================] - 1s 20ms/step - loss: 0.2141 - accuracy: 0.9466 - val_loss: 0.9657 - val_accuracy: 0.8090\n",
            "Epoch 7/20\n",
            "63/63 [==============================] - 1s 20ms/step - loss: 0.1745 - accuracy: 0.9526 - val_loss: 0.9722 - val_accuracy: 0.8140\n",
            "Epoch 8/20\n",
            "63/63 [==============================] - 1s 20ms/step - loss: 0.1580 - accuracy: 0.9541 - val_loss: 1.1044 - val_accuracy: 0.8080\n",
            "Epoch 9/20\n",
            "63/63 [==============================] - 1s 20ms/step - loss: 0.1498 - accuracy: 0.9535 - val_loss: 1.0031 - val_accuracy: 0.8070\n",
            "Epoch 10/20\n",
            "63/63 [==============================] - 1s 20ms/step - loss: 0.1437 - accuracy: 0.9529 - val_loss: 1.0857 - val_accuracy: 0.7950\n",
            "Epoch 11/20\n",
            "63/63 [==============================] - 1s 20ms/step - loss: 0.1288 - accuracy: 0.9557 - val_loss: 1.0292 - val_accuracy: 0.8040\n",
            "Epoch 12/20\n",
            "63/63 [==============================] - 1s 20ms/step - loss: 0.1221 - accuracy: 0.9555 - val_loss: 1.0991 - val_accuracy: 0.8040\n",
            "Epoch 13/20\n",
            "63/63 [==============================] - 1s 20ms/step - loss: 0.1164 - accuracy: 0.9553 - val_loss: 1.2595 - val_accuracy: 0.7920\n",
            "Epoch 14/20\n",
            "63/63 [==============================] - 1s 20ms/step - loss: 0.1098 - accuracy: 0.9580 - val_loss: 1.1731 - val_accuracy: 0.8070\n",
            "Epoch 15/20\n",
            "63/63 [==============================] - 1s 20ms/step - loss: 0.1054 - accuracy: 0.9558 - val_loss: 1.2110 - val_accuracy: 0.8020\n",
            "Epoch 16/20\n",
            "63/63 [==============================] - 1s 20ms/step - loss: 0.1010 - accuracy: 0.9570 - val_loss: 1.2252 - val_accuracy: 0.8090\n",
            "Epoch 17/20\n",
            "63/63 [==============================] - 1s 20ms/step - loss: 0.0969 - accuracy: 0.9574 - val_loss: 1.3138 - val_accuracy: 0.7820\n",
            "Epoch 18/20\n",
            "63/63 [==============================] - 1s 20ms/step - loss: 0.0922 - accuracy: 0.9570 - val_loss: 1.3456 - val_accuracy: 0.7990\n",
            "Epoch 19/20\n",
            "63/63 [==============================] - 1s 20ms/step - loss: 0.0891 - accuracy: 0.9580 - val_loss: 1.5099 - val_accuracy: 0.7960\n",
            "Epoch 20/20\n",
            "63/63 [==============================] - 1s 21ms/step - loss: 0.0858 - accuracy: 0.9582 - val_loss: 1.4686 - val_accuracy: 0.7980\n"
          ]
        },
        {
          "output_type": "execute_result",
          "data": {
            "text/plain": [
              "<keras.callbacks.History at 0x7f5201777090>"
            ]
          },
          "metadata": {},
          "execution_count": 70
        }
      ]
    },
    {
      "cell_type": "markdown",
      "source": [
        "validation 데이터 정확도 :  82%로 1% 처음 테스트 보다 상승"
      ],
      "metadata": {
        "id": "6f9RlK113Ys3"
      }
    },
    {
      "cell_type": "markdown",
      "source": [
        "- 3개의 은닉층을 사용해 테스트"
      ],
      "metadata": {
        "id": "3TLHEJra3_Ci"
      }
    },
    {
      "cell_type": "code",
      "source": [
        "model = models.Sequential()\n",
        "model.add(layers.Dense(64, activation='relu', input_shape=(10000,)))\n",
        "model.add(layers.Dense(64, activation='relu'))\n",
        "model.add(layers.Dense(64, activation='relu'))\n",
        "model.add(layers.Dense(46, activation='softmax'))\n",
        "\n",
        "model.compile(optimizer='rmsprop', loss='categorical_crossentropy',metrics=['accuracy'])\n",
        "model.fit(partial_x_train,partial_y_train,epochs=20, batch_size = 128, validation_data = (x_val, y_val))"
      ],
      "metadata": {
        "colab": {
          "base_uri": "https://localhost:8080/"
        },
        "id": "wv8YUmuT4Etx",
        "outputId": "c2dbe217-72dd-44e1-dfc0-0903854ca0ee"
      },
      "execution_count": null,
      "outputs": [
        {
          "output_type": "stream",
          "name": "stdout",
          "text": [
            "Epoch 1/20\n",
            "63/63 [==============================] - 2s 23ms/step - loss: 1.8061 - accuracy: 0.6101 - val_loss: 1.2298 - val_accuracy: 0.7100\n",
            "Epoch 2/20\n",
            "63/63 [==============================] - 1s 20ms/step - loss: 0.9845 - accuracy: 0.7766 - val_loss: 1.0775 - val_accuracy: 0.7510\n",
            "Epoch 3/20\n",
            "63/63 [==============================] - 2s 25ms/step - loss: 0.6754 - accuracy: 0.8414 - val_loss: 1.0618 - val_accuracy: 0.7510\n",
            "Epoch 4/20\n",
            "63/63 [==============================] - 2s 25ms/step - loss: 0.4699 - accuracy: 0.8933 - val_loss: 0.9423 - val_accuracy: 0.8100\n",
            "Epoch 5/20\n",
            "63/63 [==============================] - 1s 20ms/step - loss: 0.3428 - accuracy: 0.9257 - val_loss: 0.9710 - val_accuracy: 0.8120\n",
            "Epoch 6/20\n",
            "63/63 [==============================] - 1s 19ms/step - loss: 0.2614 - accuracy: 0.9414 - val_loss: 0.9719 - val_accuracy: 0.8160\n",
            "Epoch 7/20\n",
            "63/63 [==============================] - 1s 20ms/step - loss: 0.2203 - accuracy: 0.9476 - val_loss: 1.0504 - val_accuracy: 0.8020\n",
            "Epoch 8/20\n",
            "63/63 [==============================] - 1s 19ms/step - loss: 0.1894 - accuracy: 0.9501 - val_loss: 1.2145 - val_accuracy: 0.7820\n",
            "Epoch 9/20\n",
            "63/63 [==============================] - 1s 19ms/step - loss: 0.1727 - accuracy: 0.9526 - val_loss: 1.0954 - val_accuracy: 0.7980\n",
            "Epoch 10/20\n",
            "63/63 [==============================] - 1s 19ms/step - loss: 0.1617 - accuracy: 0.9525 - val_loss: 1.1475 - val_accuracy: 0.7990\n",
            "Epoch 11/20\n",
            "63/63 [==============================] - 1s 20ms/step - loss: 0.1451 - accuracy: 0.9553 - val_loss: 1.3950 - val_accuracy: 0.7740\n",
            "Epoch 12/20\n",
            "63/63 [==============================] - 1s 20ms/step - loss: 0.1400 - accuracy: 0.9545 - val_loss: 1.3247 - val_accuracy: 0.7730\n",
            "Epoch 13/20\n",
            "63/63 [==============================] - 1s 20ms/step - loss: 0.1307 - accuracy: 0.9575 - val_loss: 1.2137 - val_accuracy: 0.7990\n",
            "Epoch 14/20\n",
            "63/63 [==============================] - 1s 20ms/step - loss: 0.1258 - accuracy: 0.9567 - val_loss: 1.2989 - val_accuracy: 0.7890\n",
            "Epoch 15/20\n",
            "63/63 [==============================] - 1s 20ms/step - loss: 0.1188 - accuracy: 0.9574 - val_loss: 1.2286 - val_accuracy: 0.7850\n",
            "Epoch 16/20\n",
            "63/63 [==============================] - 1s 20ms/step - loss: 0.1157 - accuracy: 0.9560 - val_loss: 1.2428 - val_accuracy: 0.8000\n",
            "Epoch 17/20\n",
            "63/63 [==============================] - 1s 20ms/step - loss: 0.1107 - accuracy: 0.9582 - val_loss: 1.4915 - val_accuracy: 0.7880\n",
            "Epoch 18/20\n",
            "63/63 [==============================] - 1s 19ms/step - loss: 0.1080 - accuracy: 0.9560 - val_loss: 1.4776 - val_accuracy: 0.7720\n",
            "Epoch 19/20\n",
            "63/63 [==============================] - 1s 20ms/step - loss: 0.1025 - accuracy: 0.9574 - val_loss: 1.5471 - val_accuracy: 0.7770\n",
            "Epoch 20/20\n",
            "63/63 [==============================] - 1s 20ms/step - loss: 0.1027 - accuracy: 0.9562 - val_loss: 1.4410 - val_accuracy: 0.7980\n"
          ]
        },
        {
          "output_type": "execute_result",
          "data": {
            "text/plain": [
              "<keras.callbacks.History at 0x7f52001db2d0>"
            ]
          },
          "metadata": {},
          "execution_count": 71
        }
      ]
    },
    {
      "cell_type": "markdown",
      "source": [
        "validation 데이터 정확도 : 81%으로 처음 테스트와 비슷"
      ],
      "metadata": {
        "id": "7y5TKtRD4PPa"
      }
    },
    {
      "cell_type": "markdown",
      "source": [
        "- 4개의 은닉층을 사용해서 테스트 진행"
      ],
      "metadata": {
        "id": "1NOIy59a4dxy"
      }
    },
    {
      "cell_type": "code",
      "source": [
        "model = models.Sequential()\n",
        "model.add(layers.Dense(64, activation='relu', input_shape=(10000,)))\n",
        "model.add(layers.Dense(64, activation='relu'))\n",
        "model.add(layers.Dense(64, activation='relu'))\n",
        "model.add(layers.Dense(64, activation='relu'))\n",
        "model.add(layers.Dense(46, activation='softmax'))\n",
        "\n",
        "model.compile(optimizer='rmsprop', loss='categorical_crossentropy',metrics=['accuracy'])\n",
        "model.fit(partial_x_train,partial_y_train,epochs=20, batch_size = 128, validation_data = (x_val, y_val))"
      ],
      "metadata": {
        "colab": {
          "base_uri": "https://localhost:8080/"
        },
        "id": "kmrdRYT24knk",
        "outputId": "51f5aa94-f363-4bd8-d85f-04698a7f9233"
      },
      "execution_count": null,
      "outputs": [
        {
          "output_type": "stream",
          "name": "stdout",
          "text": [
            "Epoch 1/20\n",
            "63/63 [==============================] - 3s 24ms/step - loss: 1.8427 - accuracy: 0.5955 - val_loss: 1.3134 - val_accuracy: 0.6970\n",
            "Epoch 2/20\n",
            "63/63 [==============================] - 2s 26ms/step - loss: 1.0449 - accuracy: 0.7593 - val_loss: 1.1220 - val_accuracy: 0.7500\n",
            "Epoch 3/20\n",
            "63/63 [==============================] - 2s 25ms/step - loss: 0.7272 - accuracy: 0.8371 - val_loss: 1.0458 - val_accuracy: 0.7890\n",
            "Epoch 4/20\n",
            "63/63 [==============================] - 1s 20ms/step - loss: 0.5174 - accuracy: 0.8821 - val_loss: 1.2079 - val_accuracy: 0.7540\n",
            "Epoch 5/20\n",
            "63/63 [==============================] - 1s 20ms/step - loss: 0.3776 - accuracy: 0.9121 - val_loss: 0.9992 - val_accuracy: 0.7990\n",
            "Epoch 6/20\n",
            "63/63 [==============================] - 1s 20ms/step - loss: 0.2819 - accuracy: 0.9321 - val_loss: 1.4433 - val_accuracy: 0.7580\n",
            "Epoch 7/20\n",
            "63/63 [==============================] - 2s 27ms/step - loss: 0.2326 - accuracy: 0.9455 - val_loss: 1.1233 - val_accuracy: 0.7990\n",
            "Epoch 8/20\n",
            "63/63 [==============================] - 2s 29ms/step - loss: 0.1912 - accuracy: 0.9509 - val_loss: 1.2157 - val_accuracy: 0.7880\n",
            "Epoch 9/20\n",
            "63/63 [==============================] - 1s 20ms/step - loss: 0.1760 - accuracy: 0.9520 - val_loss: 1.2397 - val_accuracy: 0.8040\n",
            "Epoch 10/20\n",
            "63/63 [==============================] - 1s 20ms/step - loss: 0.1578 - accuracy: 0.9530 - val_loss: 1.3649 - val_accuracy: 0.7860\n",
            "Epoch 11/20\n",
            "63/63 [==============================] - 1s 20ms/step - loss: 0.1433 - accuracy: 0.9551 - val_loss: 1.4353 - val_accuracy: 0.7810\n",
            "Epoch 12/20\n",
            "63/63 [==============================] - 1s 20ms/step - loss: 0.1315 - accuracy: 0.9563 - val_loss: 1.3476 - val_accuracy: 0.7880\n",
            "Epoch 13/20\n",
            "63/63 [==============================] - 1s 19ms/step - loss: 0.1240 - accuracy: 0.9562 - val_loss: 1.6241 - val_accuracy: 0.7540\n",
            "Epoch 14/20\n",
            "63/63 [==============================] - 1s 19ms/step - loss: 0.1185 - accuracy: 0.9560 - val_loss: 1.4361 - val_accuracy: 0.7940\n",
            "Epoch 15/20\n",
            "63/63 [==============================] - 1s 19ms/step - loss: 0.1129 - accuracy: 0.9562 - val_loss: 1.5827 - val_accuracy: 0.7840\n",
            "Epoch 16/20\n",
            "63/63 [==============================] - 1s 20ms/step - loss: 0.1082 - accuracy: 0.9574 - val_loss: 1.6930 - val_accuracy: 0.7630\n",
            "Epoch 17/20\n",
            "63/63 [==============================] - 1s 20ms/step - loss: 0.1066 - accuracy: 0.9575 - val_loss: 1.7483 - val_accuracy: 0.7840\n",
            "Epoch 18/20\n",
            "63/63 [==============================] - 1s 20ms/step - loss: 0.0987 - accuracy: 0.9572 - val_loss: 1.7932 - val_accuracy: 0.7660\n",
            "Epoch 19/20\n",
            "63/63 [==============================] - 1s 20ms/step - loss: 0.0966 - accuracy: 0.9569 - val_loss: 1.7198 - val_accuracy: 0.7740\n",
            "Epoch 20/20\n",
            "63/63 [==============================] - 1s 20ms/step - loss: 0.0939 - accuracy: 0.9560 - val_loss: 2.0410 - val_accuracy: 0.7800\n"
          ]
        },
        {
          "output_type": "execute_result",
          "data": {
            "text/plain": [
              "<keras.callbacks.History at 0x7f5200558bd0>"
            ]
          },
          "metadata": {},
          "execution_count": 72
        }
      ]
    },
    {
      "cell_type": "markdown",
      "source": [
        "validation 데이터 정확도 : 80%로 층이 깊어졌음에도 정확도 1% 하락"
      ],
      "metadata": {
        "id": "R7rAYP1F4oQ9"
      }
    },
    {
      "cell_type": "markdown",
      "source": [
        "- 은닉층 1개로 테스트"
      ],
      "metadata": {
        "id": "qNuHOm5946v_"
      }
    },
    {
      "cell_type": "code",
      "source": [
        "model = models.Sequential()\n",
        "model.add(layers.Dense(64, activation='relu', input_shape=(10000,)))\n",
        "model.add(layers.Dense(46, activation='softmax'))\n",
        "\n",
        "model.compile(optimizer='rmsprop', loss='categorical_crossentropy',metrics=['accuracy'])\n",
        "model.fit(partial_x_train,partial_y_train,epochs=20, batch_size = 128, validation_data = (x_val, y_val))"
      ],
      "metadata": {
        "colab": {
          "base_uri": "https://localhost:8080/"
        },
        "id": "4XaJ8RkP49ks",
        "outputId": "c7f86d68-3e52-4682-e4c2-eb10bc14fbca"
      },
      "execution_count": null,
      "outputs": [
        {
          "output_type": "stream",
          "name": "stdout",
          "text": [
            "Epoch 1/20\n",
            "63/63 [==============================] - 2s 22ms/step - loss: 1.8914 - accuracy: 0.6386 - val_loss: 1.2357 - val_accuracy: 0.7300\n",
            "Epoch 2/20\n",
            "63/63 [==============================] - 1s 19ms/step - loss: 0.9469 - accuracy: 0.7988 - val_loss: 0.9800 - val_accuracy: 0.7910\n",
            "Epoch 3/20\n",
            "63/63 [==============================] - 1s 18ms/step - loss: 0.6442 - accuracy: 0.8688 - val_loss: 0.8729 - val_accuracy: 0.8170\n",
            "Epoch 4/20\n",
            "63/63 [==============================] - 1s 19ms/step - loss: 0.4598 - accuracy: 0.9073 - val_loss: 0.8193 - val_accuracy: 0.8220\n",
            "Epoch 5/20\n",
            "63/63 [==============================] - 1s 18ms/step - loss: 0.3404 - accuracy: 0.9291 - val_loss: 0.7817 - val_accuracy: 0.8390\n",
            "Epoch 6/20\n",
            "63/63 [==============================] - 1s 18ms/step - loss: 0.2652 - accuracy: 0.9400 - val_loss: 0.8045 - val_accuracy: 0.8320\n",
            "Epoch 7/20\n",
            "63/63 [==============================] - 1s 18ms/step - loss: 0.2133 - accuracy: 0.9466 - val_loss: 0.8310 - val_accuracy: 0.8290\n",
            "Epoch 8/20\n",
            "63/63 [==============================] - 1s 18ms/step - loss: 0.1846 - accuracy: 0.9516 - val_loss: 0.8481 - val_accuracy: 0.8260\n",
            "Epoch 9/20\n",
            "63/63 [==============================] - 1s 18ms/step - loss: 0.1629 - accuracy: 0.9523 - val_loss: 0.8792 - val_accuracy: 0.8140\n",
            "Epoch 10/20\n",
            "63/63 [==============================] - 1s 18ms/step - loss: 0.1478 - accuracy: 0.9536 - val_loss: 0.9047 - val_accuracy: 0.8200\n",
            "Epoch 11/20\n",
            "63/63 [==============================] - 1s 18ms/step - loss: 0.1353 - accuracy: 0.9570 - val_loss: 0.9646 - val_accuracy: 0.8180\n",
            "Epoch 12/20\n",
            "63/63 [==============================] - 1s 18ms/step - loss: 0.1268 - accuracy: 0.9568 - val_loss: 0.9753 - val_accuracy: 0.8160\n",
            "Epoch 13/20\n",
            "63/63 [==============================] - 1s 18ms/step - loss: 0.1206 - accuracy: 0.9585 - val_loss: 0.9935 - val_accuracy: 0.8170\n",
            "Epoch 14/20\n",
            "63/63 [==============================] - 1s 19ms/step - loss: 0.1194 - accuracy: 0.9558 - val_loss: 1.0384 - val_accuracy: 0.8150\n",
            "Epoch 15/20\n",
            "63/63 [==============================] - 1s 18ms/step - loss: 0.1107 - accuracy: 0.9558 - val_loss: 1.0496 - val_accuracy: 0.8090\n",
            "Epoch 16/20\n",
            "63/63 [==============================] - 1s 19ms/step - loss: 0.1106 - accuracy: 0.9559 - val_loss: 1.0621 - val_accuracy: 0.8110\n",
            "Epoch 17/20\n",
            "63/63 [==============================] - 1s 19ms/step - loss: 0.1071 - accuracy: 0.9575 - val_loss: 1.0889 - val_accuracy: 0.8070\n",
            "Epoch 18/20\n",
            "63/63 [==============================] - 1s 19ms/step - loss: 0.1046 - accuracy: 0.9569 - val_loss: 1.1673 - val_accuracy: 0.7990\n",
            "Epoch 19/20\n",
            "63/63 [==============================] - 1s 18ms/step - loss: 0.1050 - accuracy: 0.9567 - val_loss: 1.1289 - val_accuracy: 0.8090\n",
            "Epoch 20/20\n",
            "63/63 [==============================] - 1s 19ms/step - loss: 0.1014 - accuracy: 0.9602 - val_loss: 1.1728 - val_accuracy: 0.8080\n"
          ]
        },
        {
          "output_type": "execute_result",
          "data": {
            "text/plain": [
              "<keras.callbacks.History at 0x7f52018c6c10>"
            ]
          },
          "metadata": {},
          "execution_count": 73
        }
      ]
    },
    {
      "cell_type": "markdown",
      "source": [
        "validaition 데이터 정확도 : 83.9%으로 가장 정확도가 높음."
      ],
      "metadata": {
        "id": "XRIUmEl35Ax8"
      }
    },
    {
      "cell_type": "markdown",
      "source": [
        ""
      ],
      "metadata": {
        "id": "FSzsFgtU5Uec"
      }
    },
    {
      "cell_type": "code",
      "source": [
        ""
      ],
      "metadata": {
        "id": "JR2EP_WY5iLg"
      },
      "execution_count": null,
      "outputs": []
    }
  ]
}