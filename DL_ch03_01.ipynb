{
  "nbformat": 4,
  "nbformat_minor": 0,
  "metadata": {
    "colab": {
      "name": "DL_ch03_01.ipynb",
      "provenance": [],
      "collapsed_sections": [],
      "authorship_tag": "ABX9TyOcSlaxC70PUaoXC2Luyyen",
      "include_colab_link": true
    },
    "kernelspec": {
      "name": "python3",
      "display_name": "Python 3"
    },
    "language_info": {
      "name": "python"
    }
  },
  "cells": [
    {
      "cell_type": "markdown",
      "metadata": {
        "id": "view-in-github",
        "colab_type": "text"
      },
      "source": [
        "<a href=\"https://colab.research.google.com/github/jewookwak/AI/blob/master/DL_ch03_01.ipynb\" target=\"_parent\"><img src=\"https://colab.research.google.com/assets/colab-badge.svg\" alt=\"Open In Colab\"/></a>"
      ]
    },
    {
      "cell_type": "markdown",
      "source": [
        "# IMDB 인터넷 영화 데이터베이스\n",
        "양극단의 리뷰 5만 개.\n",
        "50%는 부정 50%는 긍정 리뷰로 구성\n",
        "train data, test data 각각 2.5만개 씩"
      ],
      "metadata": {
        "id": "l-rlhGIFLtOU"
      }
    },
    {
      "cell_type": "code",
      "source": [
        "from keras.datasets import imdb\n",
        "\n",
        "(train_data, train_labels), (test_data, test_labels) = imdb.load_data(num_words=10000)\n",
        "# num_words =10000 : 훈련 데이터에서 가장 자주 나타나는 단어 1만 개만 사용하겠다는 의미."
      ],
      "metadata": {
        "id": "Z2IVyz66MFFe"
      },
      "execution_count": null,
      "outputs": []
    },
    {
      "cell_type": "code",
      "source": [
        "train_data[0]\n",
        "#값은 단어 시퀀스가 인코딩 된 것."
      ],
      "metadata": {
        "colab": {
          "base_uri": "https://localhost:8080/"
        },
        "id": "Fi_njOigMA48",
        "outputId": "2dd6fd99-0607-4af7-c39e-c6acc357d069"
      },
      "execution_count": null,
      "outputs": [
        {
          "output_type": "execute_result",
          "data": {
            "text/plain": [
              "[1,\n",
              " 14,\n",
              " 22,\n",
              " 16,\n",
              " 43,\n",
              " 530,\n",
              " 973,\n",
              " 1622,\n",
              " 1385,\n",
              " 65,\n",
              " 458,\n",
              " 4468,\n",
              " 66,\n",
              " 3941,\n",
              " 4,\n",
              " 173,\n",
              " 36,\n",
              " 256,\n",
              " 5,\n",
              " 25,\n",
              " 100,\n",
              " 43,\n",
              " 838,\n",
              " 112,\n",
              " 50,\n",
              " 670,\n",
              " 2,\n",
              " 9,\n",
              " 35,\n",
              " 480,\n",
              " 284,\n",
              " 5,\n",
              " 150,\n",
              " 4,\n",
              " 172,\n",
              " 112,\n",
              " 167,\n",
              " 2,\n",
              " 336,\n",
              " 385,\n",
              " 39,\n",
              " 4,\n",
              " 172,\n",
              " 4536,\n",
              " 1111,\n",
              " 17,\n",
              " 546,\n",
              " 38,\n",
              " 13,\n",
              " 447,\n",
              " 4,\n",
              " 192,\n",
              " 50,\n",
              " 16,\n",
              " 6,\n",
              " 147,\n",
              " 2025,\n",
              " 19,\n",
              " 14,\n",
              " 22,\n",
              " 4,\n",
              " 1920,\n",
              " 4613,\n",
              " 469,\n",
              " 4,\n",
              " 22,\n",
              " 71,\n",
              " 87,\n",
              " 12,\n",
              " 16,\n",
              " 43,\n",
              " 530,\n",
              " 38,\n",
              " 76,\n",
              " 15,\n",
              " 13,\n",
              " 1247,\n",
              " 4,\n",
              " 22,\n",
              " 17,\n",
              " 515,\n",
              " 17,\n",
              " 12,\n",
              " 16,\n",
              " 626,\n",
              " 18,\n",
              " 2,\n",
              " 5,\n",
              " 62,\n",
              " 386,\n",
              " 12,\n",
              " 8,\n",
              " 316,\n",
              " 8,\n",
              " 106,\n",
              " 5,\n",
              " 4,\n",
              " 2223,\n",
              " 5244,\n",
              " 16,\n",
              " 480,\n",
              " 66,\n",
              " 3785,\n",
              " 33,\n",
              " 4,\n",
              " 130,\n",
              " 12,\n",
              " 16,\n",
              " 38,\n",
              " 619,\n",
              " 5,\n",
              " 25,\n",
              " 124,\n",
              " 51,\n",
              " 36,\n",
              " 135,\n",
              " 48,\n",
              " 25,\n",
              " 1415,\n",
              " 33,\n",
              " 6,\n",
              " 22,\n",
              " 12,\n",
              " 215,\n",
              " 28,\n",
              " 77,\n",
              " 52,\n",
              " 5,\n",
              " 14,\n",
              " 407,\n",
              " 16,\n",
              " 82,\n",
              " 2,\n",
              " 8,\n",
              " 4,\n",
              " 107,\n",
              " 117,\n",
              " 5952,\n",
              " 15,\n",
              " 256,\n",
              " 4,\n",
              " 2,\n",
              " 7,\n",
              " 3766,\n",
              " 5,\n",
              " 723,\n",
              " 36,\n",
              " 71,\n",
              " 43,\n",
              " 530,\n",
              " 476,\n",
              " 26,\n",
              " 400,\n",
              " 317,\n",
              " 46,\n",
              " 7,\n",
              " 4,\n",
              " 2,\n",
              " 1029,\n",
              " 13,\n",
              " 104,\n",
              " 88,\n",
              " 4,\n",
              " 381,\n",
              " 15,\n",
              " 297,\n",
              " 98,\n",
              " 32,\n",
              " 2071,\n",
              " 56,\n",
              " 26,\n",
              " 141,\n",
              " 6,\n",
              " 194,\n",
              " 7486,\n",
              " 18,\n",
              " 4,\n",
              " 226,\n",
              " 22,\n",
              " 21,\n",
              " 134,\n",
              " 476,\n",
              " 26,\n",
              " 480,\n",
              " 5,\n",
              " 144,\n",
              " 30,\n",
              " 5535,\n",
              " 18,\n",
              " 51,\n",
              " 36,\n",
              " 28,\n",
              " 224,\n",
              " 92,\n",
              " 25,\n",
              " 104,\n",
              " 4,\n",
              " 226,\n",
              " 65,\n",
              " 16,\n",
              " 38,\n",
              " 1334,\n",
              " 88,\n",
              " 12,\n",
              " 16,\n",
              " 283,\n",
              " 5,\n",
              " 16,\n",
              " 4472,\n",
              " 113,\n",
              " 103,\n",
              " 32,\n",
              " 15,\n",
              " 16,\n",
              " 5345,\n",
              " 19,\n",
              " 178,\n",
              " 32]"
            ]
          },
          "metadata": {},
          "execution_count": 38
        }
      ]
    },
    {
      "cell_type": "code",
      "source": [
        "train_labels[0]\n",
        "# 부정 : 0 , 긍정 : 1"
      ],
      "metadata": {
        "colab": {
          "base_uri": "https://localhost:8080/"
        },
        "id": "S4_tIN-mNBkm",
        "outputId": "e3641e0f-96d1-44bb-b4cb-c197c7a4c457"
      },
      "execution_count": null,
      "outputs": [
        {
          "output_type": "execute_result",
          "data": {
            "text/plain": [
              "1"
            ]
          },
          "metadata": {},
          "execution_count": 39
        }
      ]
    },
    {
      "cell_type": "code",
      "source": [
        "max([max(sequence) for sequence in train_data])\n",
        "#가장 자주 등장하는 단어 1만 개로 제한했기 때문에 단어 인덱스는 9,999를 넘지 않음."
      ],
      "metadata": {
        "colab": {
          "base_uri": "https://localhost:8080/"
        },
        "id": "cTq8C3M9OcD5",
        "outputId": "2410f36d-9b62-481c-e5a6-7f50501715bc"
      },
      "execution_count": null,
      "outputs": [
        {
          "output_type": "execute_result",
          "data": {
            "text/plain": [
              "9999"
            ]
          },
          "metadata": {},
          "execution_count": 40
        }
      ]
    },
    {
      "cell_type": "code",
      "source": [
        "word_index = imdb.get_word_index()   #word_index는 단어와 정수 인덱스를 매핑한 딕셔너리\n",
        "reverse_word_index = dict([(value, key) for (key, value) in word_index.items()]) # 정수 인덱스와 단어를 매핑하도록 뒤집음.\n",
        "decoded_review = ' '.join([reverse_word_index.get(i-3,'?') for i in train_data[0]]) # 리뷰를 디코딩. 0,1,2는 '패딩', '문서 시작', '사전에 없음'을 위한 인덱스이므로 3을 뺌"
      ],
      "metadata": {
        "id": "vXBi4HnfOjNw"
      },
      "execution_count": null,
      "outputs": []
    },
    {
      "cell_type": "code",
      "source": [
        "print(decoded_review)"
      ],
      "metadata": {
        "colab": {
          "base_uri": "https://localhost:8080/"
        },
        "id": "4x9g9KNnPSx-",
        "outputId": "31ab5eee-c636-4835-fbd8-29a7d65fa036"
      },
      "execution_count": null,
      "outputs": [
        {
          "output_type": "stream",
          "name": "stdout",
          "text": [
            "? this film was just brilliant casting location scenery story direction everyone's really suited the part they played and you could just imagine being there robert ? is an amazing actor and now the same being director ? father came from the same scottish island as myself so i loved the fact there was a real connection with this film the witty remarks throughout the film were great it was just brilliant so much that i bought the film as soon as it was released for ? and would recommend it to everyone to watch and the fly fishing was amazing really cried at the end it was so sad and you know what they say if you cry at a film it must have been good and this definitely was also ? to the two little boy's that played the ? of norman and paul they were just brilliant children are often left out of the ? list i think because the stars that play them all grown up are such a big profile for the whole film but these children are amazing and should be praised for what they have done don't you think the whole story was so lovely because it was true and was someone's life after all that was shared with us all\n"
          ]
        }
      ]
    },
    {
      "cell_type": "markdown",
      "source": [
        "# 데이터 준비\n",
        "신경망에 숫자 리스트를 주입할 수 없음.\n",
        "리스트를 텐서로 바꾸는 두 가지 방법이 있음.\n",
        "- 같은 길이가 되도록 리스트에 패딩을 추가하고 (samples, sequence_length) 크기의 정수 텐서로 변환, 그다음 이 정수 텐서를 다룰 수 있는 층을 신경망의 첫 번째 층으로 사용(Embedding 층).\n",
        "- 리스트를 원-핫 인코딩하여 0과 1의 벡터로 변환. 예를 들어 시퀀스[3, 5]를 인덱스 3과 5의 위치는 1이고 그 외는 모두 0인 10,000차원의 벡터로 각각 변환. 그다음 부동 소수 벡터 데이터를 다룰 수 있는 Dense 층을 신경망의 첫 번째 층으로 사용."
      ],
      "metadata": {
        "id": "v-DLj-vWQroN"
      }
    },
    {
      "cell_type": "code",
      "source": [
        "#원-핫 벡터 만들기\n",
        "import numpy as np\n",
        "\n",
        "def vectorize_sequences(sequences, dimension = 10000):\n",
        "  results = np.zeros((len(sequences),dimension))\n",
        "  for i, sequence in enumerate(sequences):\n",
        "    results[i, sequence] = 1.\n",
        "  return results\n",
        "x_train = vectorize_sequences(train_data)\n",
        "x_test = vectorize_sequences(test_data)"
      ],
      "metadata": {
        "id": "7_H3DURRQH3c"
      },
      "execution_count": null,
      "outputs": []
    },
    {
      "cell_type": "code",
      "source": [
        "x_train[0]"
      ],
      "metadata": {
        "colab": {
          "base_uri": "https://localhost:8080/"
        },
        "id": "p1pFCmvASoL9",
        "outputId": "d2193f89-17e3-4820-f288-4876599a860c"
      },
      "execution_count": null,
      "outputs": [
        {
          "output_type": "execute_result",
          "data": {
            "text/plain": [
              "array([0., 1., 1., ..., 0., 0., 0.])"
            ]
          },
          "metadata": {},
          "execution_count": 49
        }
      ]
    },
    {
      "cell_type": "code",
      "source": [
        "x_test[0]"
      ],
      "metadata": {
        "colab": {
          "base_uri": "https://localhost:8080/"
        },
        "id": "F-e_1HsPTm1c",
        "outputId": "1ddc8b4d-d330-42fe-f451-dcfc8b6be10b"
      },
      "execution_count": null,
      "outputs": [
        {
          "output_type": "execute_result",
          "data": {
            "text/plain": [
              "array([0., 1., 1., ..., 0., 0., 0.])"
            ]
          },
          "metadata": {},
          "execution_count": 50
        }
      ]
    },
    {
      "cell_type": "code",
      "source": [
        "y_train = np.asarray(train_labels).astype('float32')\n",
        "y_test = np.asarray(test_labels).astype('float32')"
      ],
      "metadata": {
        "id": "yGTcE4wfToM7"
      },
      "execution_count": null,
      "outputs": []
    },
    {
      "cell_type": "markdown",
      "source": [
        "# 신경망 모델 만들기\n",
        "- 입력 데이터가 벡터고, 레이블은 스칼라(1 또는 0).\n",
        "- relu 활성화 함수를 사용한 완전 연결 층 Dense(16, activation='relu') 을 그냥 쌓음.\n",
        "- Dense 층에 전달한 매개변수(16)는 은닉 유닛의 개수.\n",
        "- 하나의 은닉 유닛은 층이 나타내는 표현 공간에서 하나의 차원이 됨.\n",
        "- 16개의 은닉 유닛이 있다는 것은 가중치 행렬 W의 크기가 (input_dimension, 16)이라는 뜻\n",
        "\n"
      ],
      "metadata": {
        "id": "7QEEATQGT1og"
      }
    },
    {
      "cell_type": "markdown",
      "source": [
        "Dense 층을 쌓을 때 두 가지 중요한 구조상 결정이 필요함.\n",
        "- 얼마나 많은 층을 사용할 것인가?\n",
        "- 각 층에 얼마나 많은 은기 유닛을 둘 것인가?\n",
        "일반적인 구조\n",
        "- 16개의 은닉 유닛을 가진 2개의 은닉 층\n",
        "- 현재 리뷰의 감정을 스칼라 값의 예측으로 출력하는 세번째 층\n",
        "- 중간에 있는 은닉 층은 활성화 함수로 relu를 사용\n",
        "- 마지막 층은 확률 (0과 1 사이의 점수로, 어떤 샘플이 타깃 '1'일 가능성이 높다는 것은 그 리뷰가 긍정일 가능성이 높다는 것을 의미)을 출력하기 위해 시그모이드 활성화 함수를 사용\n",
        "\n",
        "활성화 함수?\n",
        "- 활성화 함수는 비선형성을 갖음.\n",
        "- 가설 공간을 풍부하게 만들어 층을 깊게 만드는 장점을 살릴 수 있음"
      ],
      "metadata": {
        "id": "-7RpmQHhVxyo"
      }
    },
    {
      "cell_type": "code",
      "source": [
        "from keras import models\n",
        "from keras import layers\n",
        "\n",
        "model = models.Sequential()\n",
        "model.add(layers.Dense(16, activation='relu', input_shape=(10000,)))\n",
        "model.add(layers.Dense(16, activation ='relu'))\n",
        "model.add(layers.Dense(1, activation='sigmoid'))"
      ],
      "metadata": {
        "id": "CupZqdicZbQ1"
      },
      "execution_count": null,
      "outputs": []
    },
    {
      "cell_type": "markdown",
      "source": [
        "손실 함수, 옵티마이저 선택\n",
        "- 손실함수 : binary_crossentropy / mean_squared_error 중 전자가 적합.\n",
        "- 확률을 출력하는 모델에서는 크로스엔트로피가 최선의 선택 (크로스엔트로피는 확률 분포 간의 차이를 측정, 여기에서는 원본 분포와 예측 분포의 차이를 측정)\n",
        "- 옵티마이저 : rmsprop\n"
      ],
      "metadata": {
        "id": "oIWiqggLZ0gX"
      }
    },
    {
      "cell_type": "code",
      "source": [
        "model.compile(optimizer = 'rmsprop', loss = 'binary_crossentroy', metrics=['accuracy'])"
      ],
      "metadata": {
        "id": "vDQS65fPb_NU"
      },
      "execution_count": null,
      "outputs": []
    },
    {
      "cell_type": "markdown",
      "source": [
        "rmsprop, binary_crossentropy, accuracy가 포함되어 있기 때문에 옵티마이저, 손실 함수, 측정 지표를 문자열로 지정 가능.  \n",
        "- 옵티마이저의 매개변수를 바꿔야하는 경우 존재 -> 옵티마이저 파이썬 클래스를 사용해 객체를 직접 만들어 optimizer 매개변수에 전달.\n",
        "- 자신만의 손실 함수, 측정, 함수를 전달 해야하는 경우 존재 -> loss와 metrics 매개변수에 함수 객체를 전달."
      ],
      "metadata": {
        "id": "TYRzJeNpcKtI"
      }
    },
    {
      "cell_type": "code",
      "source": [
        "#1) 옵티마이저 설정하기\n",
        "from tensorflow.keras import optimizers\n",
        "\n",
        "model.compile(optimizer = optimizers.RMSprop(lr=0.001),loss = 'binary_crossentropy', metrics=['accuracy'])"
      ],
      "metadata": {
        "colab": {
          "base_uri": "https://localhost:8080/"
        },
        "id": "Dq7fySKFdEWC",
        "outputId": "c3e402b7-2e01-4e5c-c689-b29791400d8d"
      },
      "execution_count": null,
      "outputs": [
        {
          "output_type": "stream",
          "name": "stderr",
          "text": [
            "/usr/local/lib/python3.7/dist-packages/keras/optimizer_v2/rmsprop.py:130: UserWarning: The `lr` argument is deprecated, use `learning_rate` instead.\n",
            "  super(RMSprop, self).__init__(name, **kwargs)\n"
          ]
        }
      ]
    },
    {
      "cell_type": "code",
      "source": [
        "from keras import losses\n",
        "from keras import metrics\n",
        "\n",
        "model.compile(optimizer=optimizers.RMSprop(lr=0.001),loss = losses.binary_crossentropy, metrics=[metrics.binary_accuracy])"
      ],
      "metadata": {
        "colab": {
          "base_uri": "https://localhost:8080/"
        },
        "id": "AbQFM1fxddts",
        "outputId": "5d13fb53-94cf-4ae6-9cd0-e6b4627381e5"
      },
      "execution_count": null,
      "outputs": [
        {
          "output_type": "stream",
          "name": "stderr",
          "text": [
            "/usr/local/lib/python3.7/dist-packages/keras/optimizer_v2/rmsprop.py:130: UserWarning: The `lr` argument is deprecated, use `learning_rate` instead.\n",
            "  super(RMSprop, self).__init__(name, **kwargs)\n"
          ]
        }
      ]
    },
    {
      "cell_type": "markdown",
      "source": [
        "# 훈련 검증\n",
        "원본 훈련 데이터에서 10,000개의 샘플을 떼어 검증 세트로 만듬."
      ],
      "metadata": {
        "id": "ArTrKeDveUkE"
      }
    },
    {
      "cell_type": "code",
      "source": [
        "x_val = x_train[:10000]\n",
        "partial_x_train = x_train[10000:]\n",
        "y_val = y_train[:10000]\n",
        "partial_y_train = y_train[10000:]"
      ],
      "metadata": {
        "id": "s1DTeKS9enRI"
      },
      "execution_count": null,
      "outputs": []
    },
    {
      "cell_type": "code",
      "source": [
        "x_val.shape"
      ],
      "metadata": {
        "colab": {
          "base_uri": "https://localhost:8080/"
        },
        "id": "Fwnjennue4FP",
        "outputId": "47e6e4f6-f0af-438b-d4e4-6a5b46515816"
      },
      "execution_count": null,
      "outputs": [
        {
          "output_type": "execute_result",
          "data": {
            "text/plain": [
              "(10000, 10000)"
            ]
          },
          "metadata": {},
          "execution_count": 63
        }
      ]
    },
    {
      "cell_type": "code",
      "source": [
        "partial_x_train.shape"
      ],
      "metadata": {
        "colab": {
          "base_uri": "https://localhost:8080/"
        },
        "id": "1XEAr62Xe9R-",
        "outputId": "722a4ee6-6e47-49a3-d41f-53b190e3a55d"
      },
      "execution_count": null,
      "outputs": [
        {
          "output_type": "execute_result",
          "data": {
            "text/plain": [
              "(15000, 10000)"
            ]
          },
          "metadata": {},
          "execution_count": 64
        }
      ]
    },
    {
      "cell_type": "markdown",
      "source": [
        "- 모델을 512개의 샘플씩 미니 배치를 만들어 20번의 에포크 동안 훈련(x_train과 y_train 텐서에 있는 모든 샘플에 대해 20번 반복).\n",
        "- 동시에 따로 떼어 놓은 1만 개의 샘플에서 손실과 정확도를 층정.\n",
        "- 이렇게 하려면 validation_data 매개변수에 검증 데이터를 전달해야 함."
      ],
      "metadata": {
        "id": "KVN45B0FfC6S"
      }
    },
    {
      "cell_type": "code",
      "source": [
        "model.compile(optimizer='rmsprop',loss = 'binary_crossentropy',metrics=['acc'])\n",
        "\n",
        "history = model.fit(partial_x_train,partial_y_train,epochs=20,batch_size=512,validation_data=(x_val,y_val))"
      ],
      "metadata": {
        "colab": {
          "base_uri": "https://localhost:8080/"
        },
        "id": "JWJAJHdMgIXn",
        "outputId": "90990f7e-74a5-4659-a42b-ecbaaa076cf0"
      },
      "execution_count": null,
      "outputs": [
        {
          "output_type": "stream",
          "name": "stdout",
          "text": [
            "Epoch 1/20\n",
            "30/30 [==============================] - 3s 76ms/step - loss: 0.5076 - acc: 0.7907 - val_loss: 0.4004 - val_acc: 0.8535\n",
            "Epoch 2/20\n",
            "30/30 [==============================] - 1s 39ms/step - loss: 0.3077 - acc: 0.9026 - val_loss: 0.3191 - val_acc: 0.8795\n",
            "Epoch 3/20\n",
            "30/30 [==============================] - 1s 39ms/step - loss: 0.2250 - acc: 0.9289 - val_loss: 0.2808 - val_acc: 0.8912\n",
            "Epoch 4/20\n",
            "30/30 [==============================] - 1s 39ms/step - loss: 0.1802 - acc: 0.9405 - val_loss: 0.2764 - val_acc: 0.8903\n",
            "Epoch 5/20\n",
            "30/30 [==============================] - 1s 39ms/step - loss: 0.1469 - acc: 0.9529 - val_loss: 0.2838 - val_acc: 0.8863\n",
            "Epoch 6/20\n",
            "30/30 [==============================] - 1s 39ms/step - loss: 0.1212 - acc: 0.9615 - val_loss: 0.2898 - val_acc: 0.8872\n",
            "Epoch 7/20\n",
            "30/30 [==============================] - 1s 42ms/step - loss: 0.1030 - acc: 0.9683 - val_loss: 0.3057 - val_acc: 0.8850\n",
            "Epoch 8/20\n",
            "30/30 [==============================] - 2s 67ms/step - loss: 0.0814 - acc: 0.9785 - val_loss: 0.3325 - val_acc: 0.8830\n",
            "Epoch 9/20\n",
            "30/30 [==============================] - 1s 40ms/step - loss: 0.0707 - acc: 0.9805 - val_loss: 0.3427 - val_acc: 0.8829\n",
            "Epoch 10/20\n",
            "30/30 [==============================] - 1s 39ms/step - loss: 0.0550 - acc: 0.9870 - val_loss: 0.3938 - val_acc: 0.8707\n",
            "Epoch 11/20\n",
            "30/30 [==============================] - 1s 38ms/step - loss: 0.0462 - acc: 0.9898 - val_loss: 0.3963 - val_acc: 0.8751\n",
            "Epoch 12/20\n",
            "30/30 [==============================] - 1s 40ms/step - loss: 0.0360 - acc: 0.9927 - val_loss: 0.4235 - val_acc: 0.8760\n",
            "Epoch 13/20\n",
            "30/30 [==============================] - 1s 38ms/step - loss: 0.0290 - acc: 0.9949 - val_loss: 0.4518 - val_acc: 0.8707\n",
            "Epoch 14/20\n",
            "30/30 [==============================] - 1s 38ms/step - loss: 0.0235 - acc: 0.9958 - val_loss: 0.4788 - val_acc: 0.8713\n",
            "Epoch 15/20\n",
            "30/30 [==============================] - 1s 41ms/step - loss: 0.0184 - acc: 0.9971 - val_loss: 0.5223 - val_acc: 0.8657\n",
            "Epoch 16/20\n",
            "30/30 [==============================] - 1s 41ms/step - loss: 0.0126 - acc: 0.9989 - val_loss: 0.5427 - val_acc: 0.8701\n",
            "Epoch 17/20\n",
            "30/30 [==============================] - 1s 41ms/step - loss: 0.0123 - acc: 0.9982 - val_loss: 0.5748 - val_acc: 0.8704\n",
            "Epoch 18/20\n",
            "30/30 [==============================] - 1s 37ms/step - loss: 0.0076 - acc: 0.9995 - val_loss: 0.6046 - val_acc: 0.8661\n",
            "Epoch 19/20\n",
            "30/30 [==============================] - 1s 39ms/step - loss: 0.0064 - acc: 0.9995 - val_loss: 0.6427 - val_acc: 0.8665\n",
            "Epoch 20/20\n",
            "30/30 [==============================] - 1s 42ms/step - loss: 0.0044 - acc: 0.9997 - val_loss: 0.6750 - val_acc: 0.8654\n"
          ]
        }
      ]
    },
    {
      "cell_type": "markdown",
      "source": [
        "- model.fit() 메서드는 History 객체를 반환. \n",
        "이 객첸느 훈련한는 동안 발생한 모든 정보를 담고 있는 딕셔너리인 history 속성을 갖음."
      ],
      "metadata": {
        "id": "o9thvDHNgg7m"
      }
    },
    {
      "cell_type": "code",
      "source": [
        "history_dict = history.history\n",
        "history_dict.keys()"
      ],
      "metadata": {
        "colab": {
          "base_uri": "https://localhost:8080/"
        },
        "id": "EKVxzKqShFuK",
        "outputId": "12133c06-4b18-4949-a0ff-8cc81fbf9c89"
      },
      "execution_count": null,
      "outputs": [
        {
          "output_type": "execute_result",
          "data": {
            "text/plain": [
              "dict_keys(['loss', 'acc', 'val_loss', 'val_acc'])"
            ]
          },
          "metadata": {},
          "execution_count": 67
        }
      ]
    },
    {
      "cell_type": "code",
      "source": [
        "# 훈련과 검증 손실 그리기\n",
        "import matplotlib.pyplot as plt\n",
        "\n",
        "history_dict = history.history\n",
        "loss = history_dict['loss']\n",
        "val_loss = history_dict['val_loss']\n",
        "\n",
        "epochs = range(1, len(loss)+1)\n",
        "plt.plot(epochs, loss, 'bo',label = 'Training_loss') # bo : 파란색 점선\n",
        "plt.plot(epochs, val_loss,'b',label='Validation loss') # b : 파란색 실선\n",
        "plt.title('Training and validation loss')\n",
        "plt.xlabel('Epochs')\n",
        "plt.ylabel('Loss')\n",
        "plt.legend()\n",
        "plt.show()"
      ],
      "metadata": {
        "colab": {
          "base_uri": "https://localhost:8080/",
          "height": 295
        },
        "id": "40-juamahLB1",
        "outputId": "dabadca1-afff-4a40-e68b-e813bd4e96e0"
      },
      "execution_count": null,
      "outputs": [
        {
          "output_type": "display_data",
          "data": {
            "text/plain": [
              "<Figure size 432x288 with 1 Axes>"
            ],
            "image/png": "[encoded data removed]"
          },
          "metadata": {
            "needs_background": "light"
          }
        }
      ]
    },
    {
      "cell_type": "code",
      "source": [
        "#훈련과 검증 정확도 그리기\n",
        "plt.clf() #그래프 초기화\n",
        "acc = history_dict['acc']\n",
        "val_acc = history_dict['val_acc']\n",
        "\n",
        "plt.plot(epochs, acc, 'bo', label = 'Training acc')\n",
        "plt.plot(epochs, val_acc,'b', label = 'Validation acc')\n",
        "plt.title('Training and validation accuracy')\n",
        "plt.xlabel('Epochs')\n",
        "plt.ylabel('Accuracy')\n",
        "plt.legend()\n",
        "plt.show()"
      ],
      "metadata": {
        "colab": {
          "base_uri": "https://localhost:8080/",
          "height": 295
        },
        "id": "vzfzghVhiZLp",
        "outputId": "833c2bad-9c6e-4d95-9667-d56d21471d1e"
      },
      "execution_count": null,
      "outputs": [
        {
          "output_type": "display_data",
          "data": {
            "text/plain": [
              "<Figure size 432x288 with 1 Axes>"
            ],
            "image/png": "[encoded data removed]"
          },
          "metadata": {
            "needs_background": "light"
          }
        }
      ]
    },
    {
      "cell_type": "markdown",
      "source": [
        "과대적합 (overfitting) 발생.  \n",
        "training data의 acc는 증가하지만,  \n",
        "validation data의 acc는 일부 증가하다 감소.  \n",
        "3epochs 까지는 과대적합이 일어나지 않음."
      ],
      "metadata": {
        "id": "ki3BXPZ1j0pg"
      }
    },
    {
      "cell_type": "code",
      "source": [
        "#모델을 처음부터 다시 훈련하기 (3epochs)\n",
        "model = models.Sequential()\n",
        "model.add(layers.Dense(16,activation = 'relu', input_shape=(10000,)))\n",
        "model.add(layers.Dense(16,activation = 'relu'))\n",
        "model.add(layers.Dense(1, activation = 'sigmoid'))\n",
        "\n",
        "model.compile(optimizer = 'rmsprop', loss= 'binary_crossentropy',metrics=['accuracy'])\n",
        "model.fit(x_train,y_train,epochs = 3, batch_size =  512)\n",
        "results = model.evaluate(x_test, y_test)"
      ],
      "metadata": {
        "colab": {
          "base_uri": "https://localhost:8080/"
        },
        "id": "b2g088G3kfuj",
        "outputId": "5669ed5d-8c69-4605-d8fe-587897b2742a"
      },
      "execution_count": null,
      "outputs": [
        {
          "output_type": "stream",
          "name": "stdout",
          "text": [
            "Epoch 1/3\n",
            "49/49 [==============================] - 3s 41ms/step - loss: 0.4972 - accuracy: 0.8204\n",
            "Epoch 2/3\n",
            "49/49 [==============================] - 1s 30ms/step - loss: 0.2897 - accuracy: 0.9022\n",
            "Epoch 3/3\n",
            "49/49 [==============================] - 1s 30ms/step - loss: 0.2167 - accuracy: 0.9252\n",
            "782/782 [==============================] - 2s 3ms/step - loss: 0.2857 - accuracy: 0.8860\n"
          ]
        }
      ]
    },
    {
      "cell_type": "code",
      "source": [
        "results"
      ],
      "metadata": {
        "colab": {
          "base_uri": "https://localhost:8080/"
        },
        "id": "g8R2J-aQlYGx",
        "outputId": "8b921b9f-62fd-47b4-f3e9-d1d73a97dd4e"
      },
      "execution_count": null,
      "outputs": [
        {
          "output_type": "execute_result",
          "data": {
            "text/plain": [
              "[0.28574028611183167, 0.8859599828720093]"
            ]
          },
          "metadata": {},
          "execution_count": 72
        }
      ]
    },
    {
      "cell_type": "markdown",
      "source": [
        "# 훈련된 모델로 새로운 데이터에 대해 예측\n",
        "predict 메서드를 사용해서 어떤 리뷰가 긍정일 확률을 예측할 수 있음."
      ],
      "metadata": {
        "id": "y88r-tsbleAG"
      }
    },
    {
      "cell_type": "code",
      "source": [
        "model.predict(x_test)"
      ],
      "metadata": {
        "colab": {
          "base_uri": "https://localhost:8080/"
        },
        "id": "pJ5BTqfWl47o",
        "outputId": "3b483e68-7075-4280-888f-f58da8e6dad7"
      },
      "execution_count": null,
      "outputs": [
        {
          "output_type": "execute_result",
          "data": {
            "text/plain": [
              "array([[0.24314204],\n",
              "       [0.99968696],\n",
              "       [0.82086074],\n",
              "       ...,\n",
              "       [0.11039412],\n",
              "       [0.09495717],\n",
              "       [0.51558226]], dtype=float32)"
            ]
          },
          "metadata": {},
          "execution_count": 73
        }
      ]
    },
    {
      "cell_type": "markdown",
      "source": [
        "위 결과 어떤 샘플은 확실을 갖고 있고(acc=0.99), 어떤 샘플은 확신이 없음(acc = 0.11)."
      ],
      "metadata": {
        "id": "ERfWb5vpl7WK"
      }
    },
    {
      "cell_type": "markdown",
      "source": [
        "# 정리\n",
        "- 원본 데이터를 신경망에 텐서로 주입하기 위해서는 꽤 많은 전처리가 필요함, 단어 시퀀스는 이진 벡터로 인코딩 될 수 있고 다른 인코딩 방식도 존재.\n",
        "- relu 활성화 함수와 함께 Dense 층을 쌓는 네트워크는 (감성 분률르 포함하여) 여러 종류의 문제에 이진 벡터로 인코딩될 수 있고 다른 인코딩 방식도 있음.\n",
        "- (출력 클래스가 2개인) 이진 분류 문제에서는 네트워크는 하나의 유닛과 sigmoid 활성화 함수를 가진 Dense 층으로 끝나야 함. 이 신경망의 출력은 확률을 나타내는 0과 1 사이의 스칼라 값임.\n",
        "- 이진 분류 문제에서 이런 스칼라 시그모이드 출력에 대해 사용할 손실 함수는 binary_crossentropy 임.\n",
        "- rmsprop 옵티마이저는 문제에 상관없이 일반적으로 충분히 좋은 선택임.\n",
        "- 훈련 데이터에 대해 성능이  향상됨에 따라 신경망은 과대적합되기 시작하고 이전에 본적 없는 데이터에서는 결과가 점점 나빠지게 됨. 항상 훈련 세트 이외의 데이터에서 성능을 모니터링 해야함."
      ],
      "metadata": {
        "id": "uhOTGKfum3jj"
      }
    }
  ]
}