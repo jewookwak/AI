{
  "cells": [
    {
      "cell_type": "markdown",
      "metadata": {
        "id": "view-in-github",
        "colab_type": "text"
      },
      "source": [
        "<a href=\"https://colab.research.google.com/github/jewookwak/AI/blob/master/%EC%A7%80%EB%8A%A5%EC%A0%9C%EC%96%B4_assignment1(binary_classification)_16100056_%EA%B3%BD%EC%A0%9C%EC%9A%B0.ipynb\" target=\"_parent\"><img src=\"https://colab.research.google.com/assets/colab-badge.svg\" alt=\"Open In Colab\"/></a>"
      ]
    },
    {
      "cell_type": "code",
      "execution_count": null,
      "id": "58da0505",
      "metadata": {
        "id": "58da0505"
      },
      "outputs": [],
      "source": [
        "import pandas as pd\n",
        "import numpy as np\n",
        "import matplotlib.pyplot as plt\n",
        "from keras import models\n",
        "from keras import layers\n",
        "import tensorflow as tf"
      ]
    },
    {
      "cell_type": "code",
      "execution_count": null,
      "id": "54fa995e",
      "metadata": {
        "id": "54fa995e"
      },
      "outputs": [],
      "source": [
        "f = open('ex2data1.txt','r')"
      ]
    },
    {
      "cell_type": "code",
      "execution_count": null,
      "id": "c2042d0f",
      "metadata": {
        "id": "c2042d0f",
        "outputId": "454a4dd6-c10f-4267-8c12-fe6fd4372902"
      },
      "outputs": [
        {
          "name": "stdout",
          "output_type": "stream",
          "text": [
            "['34.62365962451697,78.0246928153624,0', '30.28671076822607,43.89499752400101,0', '35.84740876993872,72.90219802708364,0', '60.18259938620976,86.30855209546826,1', '79.0327360507101,75.3443764369103,1', '45.08327747668339,56.3163717815305,0', '61.10666453684766,96.51142588489624,1', '75.02474556738889,46.55401354116538,1', '76.09878670226257,87.42056971926803,1', '84.43281996120035,43.53339331072109,1', '95.86155507093572,38.22527805795094,0', '75.01365838958247,30.60326323428011,0', '82.30705337399482,76.48196330235604,1', '69.36458875970939,97.71869196188608,1', '39.53833914367223,76.03681085115882,0', '53.9710521485623,89.20735013750205,1', '69.07014406283025,52.74046973016765,1', '67.94685547711617,46.67857410673128,0', '70.66150955499435,92.92713789364831,1', '76.97878372747498,47.57596364975532,1', '67.37202754570876,42.83843832029179,0', '89.67677575072079,65.79936592745237,1', '50.534788289883,48.85581152764205,0', '34.21206097786789,44.20952859866288,0', '77.9240914545704,68.9723599933059,1', '62.27101367004632,69.95445795447587,1', '80.1901807509566,44.82162893218353,1', '93.114388797442,38.80067033713209,0', '61.83020602312595,50.25610789244621,0', '38.78580379679423,64.99568095539578,0', '61.379289447425,72.80788731317097,1', '85.40451939411645,57.05198397627122,1', '52.10797973193984,63.12762376881715,0', '52.04540476831827,69.43286012045222,1', '40.23689373545111,71.16774802184875,0', '54.63510555424817,52.21388588061123,0', '33.91550010906887,98.86943574220611,0', '64.17698887494485,80.90806058670817,1', '74.78925295941542,41.57341522824434,0', '34.1836400264419,75.2377203360134,0', '83.90239366249155,56.30804621605327,1', '51.54772026906181,46.85629026349976,0', '94.44336776917852,65.56892160559052,1', '82.36875375713919,40.61825515970618,0', '51.04775177128865,45.82270145776001,0', '62.22267576120188,52.06099194836679,0', '77.19303492601364,70.45820000180959,1', '97.77159928000232,86.7278223300282,1', '62.07306379667647,96.76882412413983,1', '91.56497449807442,88.69629254546599,1', '79.94481794066932,74.16311935043758,1', '99.2725269292572,60.99903099844988,1', '90.54671411399852,43.39060180650027,1', '34.52451385320009,60.39634245837173,0', '50.2864961189907,49.80453881323059,0', '49.58667721632031,59.80895099453265,0', '97.64563396007767,68.86157272420604,1', '32.57720016809309,95.59854761387875,0', '74.24869136721598,69.82457122657193,1', '71.79646205863379,78.45356224515052,1', '75.3956114656803,85.75993667331619,1', '35.28611281526193,47.02051394723416,0', '56.25381749711624,39.26147251058019,0', '30.05882244669796,49.59297386723685,0', '44.66826172480893,66.45008614558913,0', '66.56089447242954,41.09209807936973,0', '40.45755098375164,97.53518548909936,1', '49.07256321908844,51.88321182073966,0', '80.27957401466998,92.11606081344084,1', '66.74671856944039,60.99139402740988,1', '32.72283304060323,43.30717306430063,0', '64.0393204150601,78.03168802018232,1', '72.34649422579923,96.22759296761404,1', '60.45788573918959,73.09499809758037,1', '58.84095621726802,75.85844831279042,1', '99.82785779692128,72.36925193383885,1', '47.26426910848174,88.47586499559782,1', '50.45815980285988,75.80985952982456,1', '60.45555629271532,42.50840943572217,0', '82.22666157785568,42.71987853716458,0', '88.9138964166533,69.80378889835472,1', '94.83450672430196,45.69430680250754,1', '67.31925746917527,66.58935317747915,1', '57.23870631569862,59.51428198012956,1', '80.36675600171273,90.96014789746954,1', '68.46852178591112,85.59430710452014,1', '42.0754545384731,78.84478600148043,0', '75.47770200533905,90.42453899753964,1', '78.63542434898018,96.64742716885644,1', '52.34800398794107,60.76950525602592,0', '94.09433112516793,77.15910509073893,1', '90.44855097096364,87.50879176484702,1', '55.48216114069585,35.57070347228866,0', '74.49269241843041,84.84513684930135,1', '89.84580670720979,45.35828361091658,1', '83.48916274498238,48.38028579728175,1', '42.2617008099817,87.10385094025457,1', '99.31500880510394,68.77540947206617,1', '55.34001756003703,64.9319380069486,1', '74.77589300092767,89.52981289513276,1']\n"
          ]
        }
      ],
      "source": [
        "d = f.read().splitlines()\n",
        "print(d)"
      ]
    },
    {
      "cell_type": "code",
      "execution_count": null,
      "id": "de22654c",
      "metadata": {
        "id": "de22654c"
      },
      "outputs": [],
      "source": [
        "dd = []\n",
        "for num in d:\n",
        "    dd.append(num.split(','))"
      ]
    },
    {
      "cell_type": "code",
      "execution_count": null,
      "id": "e14b1b61",
      "metadata": {
        "id": "e14b1b61",
        "outputId": "bd1aa635-ac99-4ad1-dc05-129ef7c53c23"
      },
      "outputs": [
        {
          "name": "stdout",
          "output_type": "stream",
          "text": [
            "[['34.62365962451697', '78.0246928153624', '0'], ['30.28671076822607', '43.89499752400101', '0'], ['35.84740876993872', '72.90219802708364', '0'], ['60.18259938620976', '86.30855209546826', '1'], ['79.0327360507101', '75.3443764369103', '1'], ['45.08327747668339', '56.3163717815305', '0'], ['61.10666453684766', '96.51142588489624', '1'], ['75.02474556738889', '46.55401354116538', '1'], ['76.09878670226257', '87.42056971926803', '1'], ['84.43281996120035', '43.53339331072109', '1'], ['95.86155507093572', '38.22527805795094', '0'], ['75.01365838958247', '30.60326323428011', '0'], ['82.30705337399482', '76.48196330235604', '1'], ['69.36458875970939', '97.71869196188608', '1'], ['39.53833914367223', '76.03681085115882', '0'], ['53.9710521485623', '89.20735013750205', '1'], ['69.07014406283025', '52.74046973016765', '1'], ['67.94685547711617', '46.67857410673128', '0'], ['70.66150955499435', '92.92713789364831', '1'], ['76.97878372747498', '47.57596364975532', '1'], ['67.37202754570876', '42.83843832029179', '0'], ['89.67677575072079', '65.79936592745237', '1'], ['50.534788289883', '48.85581152764205', '0'], ['34.21206097786789', '44.20952859866288', '0'], ['77.9240914545704', '68.9723599933059', '1'], ['62.27101367004632', '69.95445795447587', '1'], ['80.1901807509566', '44.82162893218353', '1'], ['93.114388797442', '38.80067033713209', '0'], ['61.83020602312595', '50.25610789244621', '0'], ['38.78580379679423', '64.99568095539578', '0'], ['61.379289447425', '72.80788731317097', '1'], ['85.40451939411645', '57.05198397627122', '1'], ['52.10797973193984', '63.12762376881715', '0'], ['52.04540476831827', '69.43286012045222', '1'], ['40.23689373545111', '71.16774802184875', '0'], ['54.63510555424817', '52.21388588061123', '0'], ['33.91550010906887', '98.86943574220611', '0'], ['64.17698887494485', '80.90806058670817', '1'], ['74.78925295941542', '41.57341522824434', '0'], ['34.1836400264419', '75.2377203360134', '0'], ['83.90239366249155', '56.30804621605327', '1'], ['51.54772026906181', '46.85629026349976', '0'], ['94.44336776917852', '65.56892160559052', '1'], ['82.36875375713919', '40.61825515970618', '0'], ['51.04775177128865', '45.82270145776001', '0'], ['62.22267576120188', '52.06099194836679', '0'], ['77.19303492601364', '70.45820000180959', '1'], ['97.77159928000232', '86.7278223300282', '1'], ['62.07306379667647', '96.76882412413983', '1'], ['91.56497449807442', '88.69629254546599', '1'], ['79.94481794066932', '74.16311935043758', '1'], ['99.2725269292572', '60.99903099844988', '1'], ['90.54671411399852', '43.39060180650027', '1'], ['34.52451385320009', '60.39634245837173', '0'], ['50.2864961189907', '49.80453881323059', '0'], ['49.58667721632031', '59.80895099453265', '0'], ['97.64563396007767', '68.86157272420604', '1'], ['32.57720016809309', '95.59854761387875', '0'], ['74.24869136721598', '69.82457122657193', '1'], ['71.79646205863379', '78.45356224515052', '1'], ['75.3956114656803', '85.75993667331619', '1'], ['35.28611281526193', '47.02051394723416', '0'], ['56.25381749711624', '39.26147251058019', '0'], ['30.05882244669796', '49.59297386723685', '0'], ['44.66826172480893', '66.45008614558913', '0'], ['66.56089447242954', '41.09209807936973', '0'], ['40.45755098375164', '97.53518548909936', '1'], ['49.07256321908844', '51.88321182073966', '0'], ['80.27957401466998', '92.11606081344084', '1'], ['66.74671856944039', '60.99139402740988', '1'], ['32.72283304060323', '43.30717306430063', '0'], ['64.0393204150601', '78.03168802018232', '1'], ['72.34649422579923', '96.22759296761404', '1'], ['60.45788573918959', '73.09499809758037', '1'], ['58.84095621726802', '75.85844831279042', '1'], ['99.82785779692128', '72.36925193383885', '1'], ['47.26426910848174', '88.47586499559782', '1'], ['50.45815980285988', '75.80985952982456', '1'], ['60.45555629271532', '42.50840943572217', '0'], ['82.22666157785568', '42.71987853716458', '0'], ['88.9138964166533', '69.80378889835472', '1'], ['94.83450672430196', '45.69430680250754', '1'], ['67.31925746917527', '66.58935317747915', '1'], ['57.23870631569862', '59.51428198012956', '1'], ['80.36675600171273', '90.96014789746954', '1'], ['68.46852178591112', '85.59430710452014', '1'], ['42.0754545384731', '78.84478600148043', '0'], ['75.47770200533905', '90.42453899753964', '1'], ['78.63542434898018', '96.64742716885644', '1'], ['52.34800398794107', '60.76950525602592', '0'], ['94.09433112516793', '77.15910509073893', '1'], ['90.44855097096364', '87.50879176484702', '1'], ['55.48216114069585', '35.57070347228866', '0'], ['74.49269241843041', '84.84513684930135', '1'], ['89.84580670720979', '45.35828361091658', '1'], ['83.48916274498238', '48.38028579728175', '1'], ['42.2617008099817', '87.10385094025457', '1'], ['99.31500880510394', '68.77540947206617', '1'], ['55.34001756003703', '64.9319380069486', '1'], ['74.77589300092767', '89.52981289513276', '1']]\n"
          ]
        }
      ],
      "source": [
        "print(dd)"
      ]
    },
    {
      "cell_type": "code",
      "execution_count": null,
      "id": "cdf16242",
      "metadata": {
        "id": "cdf16242"
      },
      "outputs": [],
      "source": [
        "ddd = np.array(dd, dtype=np.float64)\n",
        "data = np.array(ddd)"
      ]
    },
    {
      "cell_type": "code",
      "execution_count": null,
      "id": "232cccc5",
      "metadata": {
        "id": "232cccc5",
        "outputId": "7346101e-9f9c-47aa-d457-c096d59654e8"
      },
      "outputs": [
        {
          "name": "stdout",
          "output_type": "stream",
          "text": [
            "       x_axis     y_axis  result\n",
            "0   34.623660  78.024693       0\n",
            "1   30.286711  43.894998       0\n",
            "2   35.847409  72.902198       0\n",
            "3   60.182599  86.308552       1\n",
            "4   79.032736  75.344376       1\n",
            "..        ...        ...     ...\n",
            "95  83.489163  48.380286       1\n",
            "96  42.261701  87.103851       1\n",
            "97  99.315009  68.775409       1\n",
            "98  55.340018  64.931938       1\n",
            "99  74.775893  89.529813       1\n",
            "\n",
            "[100 rows x 3 columns]\n"
          ]
        },
        {
          "name": "stderr",
          "output_type": "stream",
          "text": [
            "C:\\Users\\kwak2\\AppData\\Local\\Temp/ipykernel_29892/1791749914.py:2: DeprecationWarning: `np.int` is a deprecated alias for the builtin `int`. To silence this warning, use `int` by itself. Doing this will not modify any behavior and is safe. When replacing `np.int`, you may wish to use e.g. `np.int64` or `np.int32` to specify the precision. If you wish to review your current use, check the release note link for additional information.\n",
            "Deprecated in NumPy 1.20; for more details and guidance: https://numpy.org/devdocs/release/1.20.0-notes.html#deprecations\n",
            "  data = {'x_axis':ddd[:,0],'y_axis':ddd[:,1],'result':ddd[:,2].astype(np.int)}\n"
          ]
        }
      ],
      "source": [
        "from pandas import DataFrame\n",
        "data = {'x_axis':ddd[:,0],'y_axis':ddd[:,1],'result':ddd[:,2].astype(np.int)}\n",
        "df=DataFrame(data)\n",
        "print(df)"
      ]
    },
    {
      "cell_type": "code",
      "execution_count": null,
      "id": "648545ac",
      "metadata": {
        "id": "648545ac",
        "outputId": "a92ae12b-ed99-40db-9026-8ac862e46489"
      },
      "outputs": [
        {
          "data": {
            "image/png": "[encoded data removed]",
            "text/plain": [
              "<Figure size 432x288 with 1 Axes>"
            ]
          },
          "metadata": {
            "needs_background": "light"
          },
          "output_type": "display_data"
        }
      ],
      "source": [
        "labels = ['Admitted','Not']\n",
        "plt.scatter(df.loc[df.result==1, 'x_axis'],df.loc[df.result==1, 'y_axis'],c='black',marker='+',label = 'Admitted')\n",
        "plt.scatter(df.loc[df.result==0, 'x_axis'],df.loc[df.result==0, 'y_axis'],c='yellow',marker='o',edgecolor='black',label = 'Not admitted')\n",
        "\n",
        "plt.xlabel(\"Exam 1 score\")\n",
        "plt.ylabel(\"Exam 2 score\")\n",
        "plt.legend(loc='upper right', ncol=1)\n",
        "plt.show()"
      ]
    },
    {
      "cell_type": "code",
      "execution_count": null,
      "id": "3e1ce461",
      "metadata": {
        "id": "3e1ce461"
      },
      "outputs": [],
      "source": [
        "import numpy as np\n",
        "from keras.models import Sequential\n",
        "from keras.layers import Dense\n",
        "\n",
        "x_train = (df.loc[:,['x_axis','y_axis']].to_numpy())\n",
        "y_train = (df.loc[:,['result']].to_numpy())\n"
      ]
    },
    {
      "cell_type": "code",
      "execution_count": null,
      "id": "7d19631a",
      "metadata": {
        "id": "7d19631a"
      },
      "outputs": [],
      "source": [
        "from keras import models\n",
        "from keras import layers\n",
        "\n",
        "model = models.Sequential()\n",
        "model.add(layers.Dense(16, activation='relu', input_shape=(2,)))\n",
        "model.add(layers.Dense(16, activation ='relu'))\n",
        "model.add(layers.Dense(1, activation='sigmoid'))"
      ]
    },
    {
      "cell_type": "code",
      "execution_count": null,
      "id": "c705aa6d",
      "metadata": {
        "id": "c705aa6d"
      },
      "outputs": [],
      "source": [
        "x_val = x_train[:20]\n",
        "partial_x_train = x_train[20:]\n",
        "y_val = y_train[:20]\n",
        "partial_y_train = y_train[20:]"
      ]
    },
    {
      "cell_type": "code",
      "execution_count": null,
      "id": "ca67229b",
      "metadata": {
        "id": "ca67229b",
        "outputId": "bf7c2627-1230-4b69-8f13-160bcbb82086"
      },
      "outputs": [
        {
          "data": {
            "text/plain": [
              "(20, 2)"
            ]
          },
          "execution_count": 1031,
          "metadata": {},
          "output_type": "execute_result"
        }
      ],
      "source": [
        "x_val.shape"
      ]
    },
    {
      "cell_type": "code",
      "execution_count": null,
      "id": "417c186e",
      "metadata": {
        "id": "417c186e",
        "outputId": "be276fc1-b6b9-4268-c1f1-3e57bc94f2cb"
      },
      "outputs": [
        {
          "data": {
            "text/plain": [
              "(80, 2)"
            ]
          },
          "execution_count": 1032,
          "metadata": {},
          "output_type": "execute_result"
        }
      ],
      "source": [
        "partial_x_train.shape"
      ]
    },
    {
      "cell_type": "code",
      "execution_count": null,
      "id": "9a8f99d9",
      "metadata": {
        "id": "9a8f99d9",
        "outputId": "0e1bfa0b-4c12-4163-bc49-bfcf8b0df119"
      },
      "outputs": [
        {
          "data": {
            "text/plain": [
              "(20, 1)"
            ]
          },
          "execution_count": 1033,
          "metadata": {},
          "output_type": "execute_result"
        }
      ],
      "source": [
        "y_val.shape"
      ]
    },
    {
      "cell_type": "code",
      "execution_count": null,
      "id": "195031b4",
      "metadata": {
        "id": "195031b4",
        "outputId": "ab370c39-cd9e-40f9-c2b5-9e36bf5f435c"
      },
      "outputs": [
        {
          "data": {
            "text/plain": [
              "(80, 1)"
            ]
          },
          "execution_count": 1034,
          "metadata": {},
          "output_type": "execute_result"
        }
      ],
      "source": [
        "partial_y_train.shape"
      ]
    },
    {
      "cell_type": "code",
      "execution_count": null,
      "id": "f2d969c3",
      "metadata": {
        "id": "f2d969c3",
        "outputId": "ede2bbcf-e0a1-4974-cf46-d16398026ea0"
      },
      "outputs": [
        {
          "name": "stdout",
          "output_type": "stream",
          "text": [
            "Epoch 1/30\n",
            "1/1 [==============================] - 0s 499ms/step - loss: 1.2383 - binary_accuracy: 0.4750 - val_loss: 1.4017 - val_binary_accuracy: 0.6000\n",
            "Epoch 2/30\n",
            "1/1 [==============================] - 0s 26ms/step - loss: 1.0955 - binary_accuracy: 0.6000 - val_loss: 1.2513 - val_binary_accuracy: 0.3500\n",
            "Epoch 3/30\n",
            "1/1 [==============================] - 0s 27ms/step - loss: 0.9794 - binary_accuracy: 0.4000 - val_loss: 1.2052 - val_binary_accuracy: 0.6000\n",
            "Epoch 4/30\n",
            "1/1 [==============================] - 0s 26ms/step - loss: 0.9333 - binary_accuracy: 0.6000 - val_loss: 1.1223 - val_binary_accuracy: 0.4500\n",
            "Epoch 5/30\n",
            "1/1 [==============================] - 0s 25ms/step - loss: 0.8836 - binary_accuracy: 0.4125 - val_loss: 1.0933 - val_binary_accuracy: 0.6000\n",
            "Epoch 6/30\n",
            "1/1 [==============================] - 0s 22ms/step - loss: 0.8518 - binary_accuracy: 0.6000 - val_loss: 1.0412 - val_binary_accuracy: 0.6000\n",
            "Epoch 7/30\n",
            "1/1 [==============================] - 0s 27ms/step - loss: 0.8296 - binary_accuracy: 0.4625 - val_loss: 1.0300 - val_binary_accuracy: 0.6000\n",
            "Epoch 8/30\n",
            "1/1 [==============================] - 0s 24ms/step - loss: 0.8096 - binary_accuracy: 0.6000 - val_loss: 0.9798 - val_binary_accuracy: 0.6500\n",
            "Epoch 9/30\n",
            "1/1 [==============================] - 0s 29ms/step - loss: 0.7905 - binary_accuracy: 0.5250 - val_loss: 0.9691 - val_binary_accuracy: 0.6000\n",
            "Epoch 10/30\n",
            "1/1 [==============================] - 0s 27ms/step - loss: 0.7722 - binary_accuracy: 0.6000 - val_loss: 0.9250 - val_binary_accuracy: 0.6000\n",
            "Epoch 11/30\n",
            "1/1 [==============================] - 0s 23ms/step - loss: 0.7509 - binary_accuracy: 0.5750 - val_loss: 0.9127 - val_binary_accuracy: 0.6000\n",
            "Epoch 12/30\n",
            "1/1 [==============================] - 0s 26ms/step - loss: 0.7287 - binary_accuracy: 0.6000 - val_loss: 0.8817 - val_binary_accuracy: 0.5000\n",
            "Epoch 13/30\n",
            "1/1 [==============================] - 0s 26ms/step - loss: 0.7049 - binary_accuracy: 0.6000 - val_loss: 0.8536 - val_binary_accuracy: 0.6000\n",
            "Epoch 14/30\n",
            "1/1 [==============================] - 0s 31ms/step - loss: 0.6876 - binary_accuracy: 0.6000 - val_loss: 0.8319 - val_binary_accuracy: 0.5500\n",
            "Epoch 15/30\n",
            "1/1 [==============================] - 0s 27ms/step - loss: 0.6706 - binary_accuracy: 0.6375 - val_loss: 0.8020 - val_binary_accuracy: 0.5500\n",
            "Epoch 16/30\n",
            "1/1 [==============================] - 0s 24ms/step - loss: 0.6527 - binary_accuracy: 0.6375 - val_loss: 0.7808 - val_binary_accuracy: 0.6500\n",
            "Epoch 17/30\n",
            "1/1 [==============================] - 0s 23ms/step - loss: 0.6401 - binary_accuracy: 0.6375 - val_loss: 0.7568 - val_binary_accuracy: 0.6500\n",
            "Epoch 18/30\n",
            "1/1 [==============================] - 0s 25ms/step - loss: 0.6331 - binary_accuracy: 0.6250 - val_loss: 0.7434 - val_binary_accuracy: 0.6500\n",
            "Epoch 19/30\n",
            "1/1 [==============================] - 0s 26ms/step - loss: 0.6285 - binary_accuracy: 0.6375 - val_loss: 0.7255 - val_binary_accuracy: 0.6000\n",
            "Epoch 20/30\n",
            "1/1 [==============================] - 0s 23ms/step - loss: 0.6259 - binary_accuracy: 0.6250 - val_loss: 0.7156 - val_binary_accuracy: 0.6500\n",
            "Epoch 21/30\n",
            "1/1 [==============================] - 0s 27ms/step - loss: 0.6226 - binary_accuracy: 0.6250 - val_loss: 0.7007 - val_binary_accuracy: 0.6000\n",
            "Epoch 22/30\n",
            "1/1 [==============================] - 0s 24ms/step - loss: 0.6214 - binary_accuracy: 0.6000 - val_loss: 0.6915 - val_binary_accuracy: 0.6500\n",
            "Epoch 23/30\n",
            "1/1 [==============================] - 0s 27ms/step - loss: 0.6169 - binary_accuracy: 0.6250 - val_loss: 0.6751 - val_binary_accuracy: 0.6500\n",
            "Epoch 24/30\n",
            "1/1 [==============================] - 0s 27ms/step - loss: 0.6141 - binary_accuracy: 0.6000 - val_loss: 0.6710 - val_binary_accuracy: 0.6500\n",
            "Epoch 25/30\n",
            "1/1 [==============================] - 0s 29ms/step - loss: 0.6108 - binary_accuracy: 0.6250 - val_loss: 0.6566 - val_binary_accuracy: 0.6500\n",
            "Epoch 26/30\n",
            "1/1 [==============================] - 0s 26ms/step - loss: 0.6103 - binary_accuracy: 0.6000 - val_loss: 0.6517 - val_binary_accuracy: 0.6500\n",
            "Epoch 27/30\n",
            "1/1 [==============================] - 0s 31ms/step - loss: 0.6062 - binary_accuracy: 0.6500 - val_loss: 0.6356 - val_binary_accuracy: 0.7500\n",
            "Epoch 28/30\n",
            "1/1 [==============================] - 0s 28ms/step - loss: 0.6043 - binary_accuracy: 0.6000 - val_loss: 0.6330 - val_binary_accuracy: 0.7000\n",
            "Epoch 29/30\n",
            "1/1 [==============================] - 0s 26ms/step - loss: 0.6024 - binary_accuracy: 0.6625 - val_loss: 0.6233 - val_binary_accuracy: 0.7500\n",
            "Epoch 30/30\n",
            "1/1 [==============================] - 0s 23ms/step - loss: 0.6021 - binary_accuracy: 0.6000 - val_loss: 0.6256 - val_binary_accuracy: 0.7000\n"
          ]
        }
      ],
      "source": [
        "from keras import losses\n",
        "from keras import metrics\n",
        "from tensorflow.keras import optimizers\n",
        "model.compile(optimizer=optimizers.RMSprop(lr=0.001),loss = losses.binary_crossentropy, metrics=[metrics.binary_accuracy])\n",
        "history = model.fit(partial_x_train,partial_y_train,epochs=30,batch_size=512,validation_data=(x_val,y_val))"
      ]
    },
    {
      "cell_type": "code",
      "execution_count": null,
      "id": "04d26637",
      "metadata": {
        "id": "04d26637",
        "outputId": "c858858d-1a89-4ec7-bd60-0af99c6f43f6"
      },
      "outputs": [
        {
          "data": {
            "text/plain": [
              "dict_keys(['loss', 'binary_accuracy', 'val_loss', 'val_binary_accuracy'])"
            ]
          },
          "execution_count": 1036,
          "metadata": {},
          "output_type": "execute_result"
        }
      ],
      "source": [
        "history_dict = history.history\n",
        "history_dict.keys()"
      ]
    },
    {
      "cell_type": "code",
      "execution_count": null,
      "id": "cf6e0a34",
      "metadata": {
        "id": "cf6e0a34",
        "outputId": "3f131ef9-efe1-438c-8e6c-526f8d0407d5"
      },
      "outputs": [
        {
          "data": {
            "image/png": "[encoded data removed]",
            "text/plain": [
              "<Figure size 432x288 with 1 Axes>"
            ]
          },
          "metadata": {
            "needs_background": "light"
          },
          "output_type": "display_data"
        }
      ],
      "source": [
        "# 훈련과 검증 손실 그리기\n",
        "import matplotlib.pyplot as plt\n",
        "\n",
        "history_dict = history.history\n",
        "loss = history_dict['loss']\n",
        "val_loss = history_dict['val_loss']\n",
        "\n",
        "epochs = range(1, len(loss)+1)\n",
        "plt.plot(epochs, loss, 'bo',label = 'Training_loss') # bo : 파란색 점선\n",
        "plt.plot(epochs, val_loss,'b',label='Validation loss') # b : 파란색 실선\n",
        "plt.title('Training and validation loss')\n",
        "plt.xlabel('Epochs')\n",
        "plt.ylabel('Loss')\n",
        "plt.legend()\n",
        "plt.show()"
      ]
    },
    {
      "cell_type": "code",
      "execution_count": null,
      "id": "4b46d648",
      "metadata": {
        "id": "4b46d648",
        "outputId": "aa68d751-f05a-4f90-800e-d78e4a462902"
      },
      "outputs": [
        {
          "data": {
            "image/png": "[encoded data removed]",
            "text/plain": [
              "<Figure size 432x288 with 1 Axes>"
            ]
          },
          "metadata": {
            "needs_background": "light"
          },
          "output_type": "display_data"
        }
      ],
      "source": [
        "#훈련과 검증 정확도 그리기\n",
        "plt.clf() #그래프 초기화\n",
        "acc = history_dict['binary_accuracy']\n",
        "val_acc = history_dict['val_binary_accuracy']\n",
        "\n",
        "plt.plot(epochs, acc, 'bo', label = 'Training acc')\n",
        "plt.plot(epochs, val_acc,'b', label = 'Validation acc')\n",
        "plt.title('Training and validation accuracy')\n",
        "plt.xlabel('Epochs')\n",
        "plt.ylabel('Accuracy')\n",
        "plt.legend()\n",
        "plt.show()"
      ]
    },
    {
      "cell_type": "code",
      "execution_count": null,
      "id": "2ab5c754",
      "metadata": {
        "id": "2ab5c754"
      },
      "outputs": [],
      "source": [
        "hidden_2 = model.layers[2]\n",
        "weights, biases = hidden_2.get_weights()"
      ]
    },
    {
      "cell_type": "code",
      "execution_count": null,
      "id": "192bcd9d",
      "metadata": {
        "id": "192bcd9d"
      },
      "outputs": [],
      "source": [
        "sample_dot = np.array([[85, 75],[35,35], [65,70],[50,70],[30,50]])"
      ]
    },
    {
      "cell_type": "code",
      "execution_count": null,
      "id": "0167a3ae",
      "metadata": {
        "id": "0167a3ae",
        "outputId": "3462cbad-20c1-4209-c111-d89f36d0c588"
      },
      "outputs": [
        {
          "data": {
            "text/plain": [
              "(5, 2)"
            ]
          },
          "execution_count": 1041,
          "metadata": {},
          "output_type": "execute_result"
        }
      ],
      "source": [
        "sample_dot.shape"
      ]
    },
    {
      "cell_type": "code",
      "execution_count": null,
      "id": "2f8f1337",
      "metadata": {
        "id": "2f8f1337",
        "outputId": "06033b05-6973-4de2-c217-c20bd5d8782b"
      },
      "outputs": [
        {
          "name": "stdout",
          "output_type": "stream",
          "text": [
            "1/1 [==============================] - 0s 41ms/step\n"
          ]
        },
        {
          "data": {
            "text/plain": [
              "array([[0.7296768 ],\n",
              "       [0.6057156 ],\n",
              "       [0.71656525],\n",
              "       [0.57957166],\n",
              "       [0.46780884]], dtype=float32)"
            ]
          },
          "execution_count": 1042,
          "metadata": {},
          "output_type": "execute_result"
        }
      ],
      "source": [
        "model.predict(sample_dot)"
      ]
    },
    {
      "cell_type": "code",
      "execution_count": null,
      "id": "e7bfbc21",
      "metadata": {
        "id": "e7bfbc21",
        "outputId": "3e76495f-be97-4c69-82d7-77bf2cf83fac"
      },
      "outputs": [
        {
          "name": "stdout",
          "output_type": "stream",
          "text": [
            "Epoch 1/20\n",
            "1/1 [==============================] - 0s 5ms/step - loss: 0.6061 - binary_accuracy: 0.6700\n",
            "Epoch 2/20\n",
            "1/1 [==============================] - 0s 3ms/step - loss: 0.6037 - binary_accuracy: 0.6200\n",
            "Epoch 3/20\n",
            "1/1 [==============================] - 0s 4ms/step - loss: 0.5992 - binary_accuracy: 0.6500\n",
            "Epoch 4/20\n",
            "1/1 [==============================] - 0s 3ms/step - loss: 0.5976 - binary_accuracy: 0.6200\n",
            "Epoch 5/20\n",
            "1/1 [==============================] - 0s 4ms/step - loss: 0.5940 - binary_accuracy: 0.6500\n",
            "Epoch 6/20\n",
            "1/1 [==============================] - 0s 4ms/step - loss: 0.5910 - binary_accuracy: 0.6400\n",
            "Epoch 7/20\n",
            "1/1 [==============================] - 0s 3ms/step - loss: 0.5843 - binary_accuracy: 0.6800\n",
            "Epoch 8/20\n",
            "1/1 [==============================] - 0s 4ms/step - loss: 0.5813 - binary_accuracy: 0.6400\n",
            "Epoch 9/20\n",
            "1/1 [==============================] - 0s 4ms/step - loss: 0.5777 - binary_accuracy: 0.6900\n",
            "Epoch 10/20\n",
            "1/1 [==============================] - 0s 3ms/step - loss: 0.5763 - binary_accuracy: 0.6500\n",
            "Epoch 11/20\n",
            "1/1 [==============================] - 0s 4ms/step - loss: 0.5753 - binary_accuracy: 0.7000\n",
            "Epoch 12/20\n",
            "1/1 [==============================] - 0s 3ms/step - loss: 0.5764 - binary_accuracy: 0.6800\n",
            "Epoch 13/20\n",
            "1/1 [==============================] - 0s 4ms/step - loss: 0.5757 - binary_accuracy: 0.6800\n",
            "Epoch 14/20\n",
            "1/1 [==============================] - 0s 3ms/step - loss: 0.5761 - binary_accuracy: 0.6600\n",
            "Epoch 15/20\n",
            "1/1 [==============================] - 0s 3ms/step - loss: 0.5762 - binary_accuracy: 0.6800\n",
            "Epoch 16/20\n",
            "1/1 [==============================] - 0s 3ms/step - loss: 0.5793 - binary_accuracy: 0.6500\n",
            "Epoch 17/20\n",
            "1/1 [==============================] - 0s 3ms/step - loss: 0.5771 - binary_accuracy: 0.6800\n",
            "Epoch 18/20\n",
            "1/1 [==============================] - 0s 4ms/step - loss: 0.5780 - binary_accuracy: 0.6600\n",
            "Epoch 19/20\n",
            "1/1 [==============================] - 0s 3ms/step - loss: 0.5752 - binary_accuracy: 0.6800\n",
            "Epoch 20/20\n",
            "1/1 [==============================] - 0s 3ms/step - loss: 0.5757 - binary_accuracy: 0.6700\n"
          ]
        }
      ],
      "source": [
        "history = model.fit(x_train,y_train,epochs=20,batch_size=512)"
      ]
    },
    {
      "cell_type": "code",
      "execution_count": null,
      "id": "35544577",
      "metadata": {
        "scrolled": true,
        "id": "35544577",
        "outputId": "88dc145c-e777-4948-882d-3d8dbf3cbedf"
      },
      "outputs": [
        {
          "name": "stdout",
          "output_type": "stream",
          "text": [
            "1/1 [==============================] - 0s 49ms/step\n",
            "[[0.7635639 ]\n",
            " [0.62134576]\n",
            " [0.75146985]\n",
            " [0.624868  ]\n",
            " [0.48357055]]\n"
          ]
        }
      ],
      "source": [
        "result = model.predict(sample_dot)\n",
        "print(result)"
      ]
    },
    {
      "cell_type": "code",
      "execution_count": null,
      "id": "2030756f",
      "metadata": {
        "id": "2030756f",
        "outputId": "b5058aff-7e17-41aa-cb97-51eea5691e71"
      },
      "outputs": [
        {
          "name": "stdout",
          "output_type": "stream",
          "text": [
            "합격\n",
            "합격\n",
            "합격\n",
            "합격\n",
            "불합격\n"
          ]
        }
      ],
      "source": [
        "for r in range(5):\n",
        "    if(result[r]>=0.5):\n",
        "        print('합격')\n",
        "    else:\n",
        "        print('불합격')"
      ]
    },
    {
      "cell_type": "code",
      "execution_count": null,
      "id": "6ac63b7f",
      "metadata": {
        "id": "6ac63b7f"
      },
      "outputs": [],
      "source": [
        "# svm을 이용한 classification. "
      ]
    },
    {
      "cell_type": "code",
      "execution_count": null,
      "id": "2c737c25",
      "metadata": {
        "id": "2c737c25"
      },
      "outputs": [],
      "source": [
        "import numpy as np\n",
        "import matplotlib\n",
        "from matplotlib import pyplot as plt\n",
        "import scipy\n",
        "from sklearn import svm"
      ]
    },
    {
      "cell_type": "code",
      "execution_count": null,
      "id": "ac6a757a",
      "metadata": {
        "id": "ac6a757a",
        "outputId": "05f8182d-145d-423d-b108-a37ac311af49"
      },
      "outputs": [
        {
          "name": "stderr",
          "output_type": "stream",
          "text": [
            "C:\\Users\\kwak2\\anaconda3\\lib\\site-packages\\sklearn\\utils\\validation.py:63: DataConversionWarning: A column-vector y was passed when a 1d array was expected. Please change the shape of y to (n_samples, ), for example using ravel().\n",
            "  return f(*args, **kwargs)\n"
          ]
        },
        {
          "data": {
            "image/png": "[encoded data removed]",
            "text/plain": [
              "<Figure size 432x288 with 1 Axes>"
            ]
          },
          "metadata": {
            "needs_background": "light"
          },
          "output_type": "display_data"
        }
      ],
      "source": [
        "labels = ['Admitted','Not']\n",
        "plt.scatter(df.loc[df.result==1, 'x_axis'],df.loc[df.result==1, 'y_axis'],c='black',marker='+',label = 'Admitted')\n",
        "plt.scatter(df.loc[df.result==0, 'x_axis'],df.loc[df.result==0, 'y_axis'],c='yellow',marker='o',edgecolor='black',label = 'Not admitted')\n",
        "\n",
        "\n",
        "\n",
        "C = 1.0  # SVM regularization parameter\n",
        "clf = svm.SVC(kernel = 'linear',  gamma=0.7, C=C )\n",
        "clf.fit(x_train, y_train)\n",
        "w = clf.coef_[0]\n",
        "a = -w[0] / w[1]\n",
        "xx = np.linspace(30, 100)\n",
        "yy = a * xx - (clf.intercept_[0]) / w[1]\n",
        "\n",
        "plt.plot(xx, yy, 'k-')\n",
        "\n",
        "plt.xlabel(\"Exam 1 score\")\n",
        "plt.ylabel(\"Exam 2 score\")\n",
        "plt.legend(loc='upper right', ncol=1)\n",
        "plt.show()"
      ]
    },
    {
      "cell_type": "code",
      "execution_count": null,
      "id": "7424a88a",
      "metadata": {
        "id": "7424a88a",
        "outputId": "e4b79b81-944f-46e1-8735-fae65deaeba6"
      },
      "outputs": [
        {
          "name": "stdout",
          "output_type": "stream",
          "text": [
            "[1 0 1 0 0]\n"
          ]
        }
      ],
      "source": [
        "result_svm = clf.predict(sample_dot)\n",
        "print(result_svm)"
      ]
    },
    {
      "cell_type": "code",
      "execution_count": null,
      "id": "4e657dd7",
      "metadata": {
        "id": "4e657dd7",
        "outputId": "348b4620-9513-4535-de02-3bbaf41e5e53"
      },
      "outputs": [
        {
          "name": "stdout",
          "output_type": "stream",
          "text": [
            "합격\n",
            "불합격\n",
            "합격\n",
            "불합격\n",
            "불합격\n"
          ]
        }
      ],
      "source": [
        "for r in range(5):\n",
        "    if(result_svm[r]==1):\n",
        "        print('합격')\n",
        "    else:\n",
        "        print('불합격')"
      ]
    },
    {
      "cell_type": "code",
      "execution_count": null,
      "id": "70ef8e09",
      "metadata": {
        "id": "70ef8e09"
      },
      "outputs": [],
      "source": []
    },
    {
      "cell_type": "code",
      "execution_count": null,
      "id": "22e4a075",
      "metadata": {
        "id": "22e4a075"
      },
      "outputs": [],
      "source": []
    },
    {
      "cell_type": "code",
      "execution_count": null,
      "id": "c1e10f09",
      "metadata": {
        "id": "c1e10f09"
      },
      "outputs": [],
      "source": []
    },
    {
      "cell_type": "code",
      "execution_count": null,
      "id": "552d5ff0",
      "metadata": {
        "id": "552d5ff0"
      },
      "outputs": [],
      "source": []
    },
    {
      "cell_type": "code",
      "execution_count": null,
      "id": "fc02045b",
      "metadata": {
        "id": "fc02045b"
      },
      "outputs": [],
      "source": []
    },
    {
      "cell_type": "code",
      "execution_count": null,
      "id": "db60a96a",
      "metadata": {
        "id": "db60a96a"
      },
      "outputs": [],
      "source": []
    }
  ],
  "metadata": {
    "kernelspec": {
      "display_name": "Python 3 (ipykernel)",
      "language": "python",
      "name": "python3"
    },
    "language_info": {
      "codemirror_mode": {
        "name": "ipython",
        "version": 3
      },
      "file_extension": ".py",
      "mimetype": "text/x-python",
      "name": "python",
      "nbconvert_exporter": "python",
      "pygments_lexer": "ipython3",
      "version": "3.9.7"
    },
    "colab": {
      "provenance": [],
      "include_colab_link": true
    }
  },
  "nbformat": 4,
  "nbformat_minor": 5
}