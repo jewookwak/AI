{
  "nbformat": 4,
  "nbformat_minor": 0,
  "metadata": {
    "colab": {
      "name": "DL_ch02_03.ipynb",
      "provenance": [],
      "collapsed_sections": [],
      "authorship_tag": "ABX9TyMLxC6krNFK+tO/IigpbJlA",
      "include_colab_link": true
    },
    "kernelspec": {
      "name": "python3",
      "display_name": "Python 3"
    },
    "language_info": {
      "name": "python"
    }
  },
  "cells": [
    {
      "cell_type": "markdown",
      "metadata": {
        "id": "view-in-github",
        "colab_type": "text"
      },
      "source": [
        "<a href=\"https://colab.research.google.com/github/jewookwak/AI/blob/master/DL_ch02_03.ipynb\" target=\"_parent\"><img src=\"https://colab.research.google.com/assets/colab-badge.svg\" alt=\"Open In Colab\"/></a>"
      ]
    },
    {
      "cell_type": "markdown",
      "source": [
        "# 데이터 타입 확인 & 이미지 출력"
      ],
      "metadata": {
        "id": "0UmoK6BUnrfg"
      }
    },
    {
      "cell_type": "code",
      "source": [
        "from keras.datasets import mnist\n",
        "(train_images, train_laels), (test_images, test_labels) = mnist.load_data()"
      ],
      "metadata": {
        "id": "aaycmDoJlmTo"
      },
      "execution_count": null,
      "outputs": []
    },
    {
      "cell_type": "code",
      "source": [
        "print(train_images.ndim)"
      ],
      "metadata": {
        "colab": {
          "base_uri": "https://localhost:8080/"
        },
        "id": "T28M13CMlKT9",
        "outputId": "6ebd445b-7582-471f-c3ca-9011cf2900dc"
      },
      "execution_count": null,
      "outputs": [
        {
          "output_type": "stream",
          "name": "stdout",
          "text": [
            "3\n"
          ]
        }
      ]
    },
    {
      "cell_type": "code",
      "source": [
        "print(train_images.shape)"
      ],
      "metadata": {
        "colab": {
          "base_uri": "https://localhost:8080/"
        },
        "id": "7-EI3rv-lM-N",
        "outputId": "5a352e8b-ad4b-46e3-8e9f-99b13d7c668f"
      },
      "execution_count": null,
      "outputs": [
        {
          "output_type": "stream",
          "name": "stdout",
          "text": [
            "(60000, 28, 28)\n"
          ]
        }
      ]
    },
    {
      "cell_type": "code",
      "source": [
        "print(train_images.dtype)"
      ],
      "metadata": {
        "colab": {
          "base_uri": "https://localhost:8080/"
        },
        "id": "yAby87nUlT5H",
        "outputId": "64169eae-dca1-41ba-fb6e-8859099747f0"
      },
      "execution_count": null,
      "outputs": [
        {
          "output_type": "stream",
          "name": "stdout",
          "text": [
            "uint8\n"
          ]
        }
      ]
    },
    {
      "cell_type": "code",
      "source": [
        "digit = train_images[4]\n",
        "import matplotlib.pyplot as plt\n",
        "plt.imshow(digit, cmap=plt.cm.binary)\n",
        "plt.show()"
      ],
      "metadata": {
        "colab": {
          "base_uri": "https://localhost:8080/",
          "height": 265
        },
        "id": "g--_lhyIlWpO",
        "outputId": "84c9cd20-c89e-4855-efe5-e8ceaa2f215d"
      },
      "execution_count": null,
      "outputs": [
        {
          "output_type": "display_data",
          "data": {
            "text/plain": [
              "<Figure size 432x288 with 1 Axes>"
            ],
            "image/png": "[encoded data removed]"
          },
          "metadata": {
            "needs_background": "light"
          }
        }
      ]
    },
    {
      "cell_type": "markdown",
      "source": [
        "2.2.6 넘파이로 텐서 조작하기"
      ],
      "metadata": {
        "id": "yYl3FPWTlgBB"
      }
    },
    {
      "cell_type": "code",
      "source": [
        "my_slice = train_images[10:100]\n",
        "print(my_slice.shape)"
      ],
      "metadata": {
        "colab": {
          "base_uri": "https://localhost:8080/"
        },
        "id": "8hNrQLNflkpF",
        "outputId": "e459175d-ef9a-4a62-cfd6-6858462d3547"
      },
      "execution_count": null,
      "outputs": [
        {
          "output_type": "stream",
          "name": "stdout",
          "text": [
            "(90, 28, 28)\n"
          ]
        }
      ]
    },
    {
      "cell_type": "code",
      "source": [
        "my_slice = train_images[10:100,:,:]\n",
        "my_slice.shape"
      ],
      "metadata": {
        "colab": {
          "base_uri": "https://localhost:8080/"
        },
        "id": "mpZXiDN6mXQg",
        "outputId": "935a9d0d-4b1f-407c-eaa3-6ede910f9524"
      },
      "execution_count": null,
      "outputs": [
        {
          "output_type": "execute_result",
          "data": {
            "text/plain": [
              "(90, 28, 28)"
            ]
          },
          "metadata": {},
          "execution_count": 8
        }
      ]
    },
    {
      "cell_type": "code",
      "source": [
        "my_slice = train_images[10:100, 0:28, 0:28]\n",
        "my_slice.shape"
      ],
      "metadata": {
        "colab": {
          "base_uri": "https://localhost:8080/"
        },
        "id": "nSkx6tHdmeey",
        "outputId": "57b343c2-9fc0-42dd-d92c-68aedfe9d8c3"
      },
      "execution_count": null,
      "outputs": [
        {
          "output_type": "execute_result",
          "data": {
            "text/plain": [
              "(90, 28, 28)"
            ]
          },
          "metadata": {},
          "execution_count": 9
        }
      ]
    },
    {
      "cell_type": "markdown",
      "source": [
        "오른쪽 아래 14 x 14 픽셀 선택"
      ],
      "metadata": {
        "id": "bJo5x-s3mm91"
      }
    },
    {
      "cell_type": "code",
      "source": [
        "my_slice = train_images[:,14:,14:]\n",
        "digit = my_slice[4]\n",
        "plt.imshow(digit,cmap=plt.cm.binary)\n",
        "plt.show()"
      ],
      "metadata": {
        "colab": {
          "base_uri": "https://localhost:8080/",
          "height": 265
        },
        "id": "wIehIoqQm1MK",
        "outputId": "1577fcd5-b3ab-4251-9574-63b2882f9f4c"
      },
      "execution_count": null,
      "outputs": [
        {
          "output_type": "display_data",
          "data": {
            "text/plain": [
              "<Figure size 432x288 with 1 Axes>"
            ],
            "image/png": "[encoded data removed]"
          },
          "metadata": {
            "needs_background": "light"
          }
        }
      ]
    },
    {
      "cell_type": "markdown",
      "source": [
        "정중앙에 위치한 14 x 14픽셀"
      ],
      "metadata": {
        "id": "Ttal6bSMnBi7"
      }
    },
    {
      "cell_type": "code",
      "source": [
        "my_slice = train_images[:,7:-7,7:-7]\n",
        "digit = my_slice[4]\n",
        "plt.imshow(digit,cmap=plt.cm.binary)\n",
        "plt.show()"
      ],
      "metadata": {
        "colab": {
          "base_uri": "https://localhost:8080/",
          "height": 265
        },
        "id": "eRgIk1-nne32",
        "outputId": "f44115d9-603d-4acc-8711-9a677ed65b68"
      },
      "execution_count": null,
      "outputs": [
        {
          "output_type": "display_data",
          "data": {
            "text/plain": [
              "<Figure size 432x288 with 1 Axes>"
            ],
            "image/png": "[encoded data removed]"
          },
          "metadata": {
            "needs_background": "light"
          }
        }
      ]
    },
    {
      "cell_type": "markdown",
      "source": [
        "2.2.7 배치 데이터"
      ],
      "metadata": {
        "id": "MrlFwMH1nprM"
      }
    },
    {
      "cell_type": "code",
      "source": [
        "batch = train_images[:128] # fisrt batch\n",
        "batch = train_images[128:256] # second batch\n",
        "for n in range(len(train_images)):\n",
        "  batch = train_images[128*n:128*(n+1)] # nth batch"
      ],
      "metadata": {
        "id": "XE2SEj8mnuW2"
      },
      "execution_count": null,
      "outputs": []
    },
    {
      "cell_type": "markdown",
      "source": [
        "2.2.8 텐서의 실제 사례\n",
        "- 벡터 데이터 : (samples, features) 크기의 2D 텐서\n",
        "- 시계열 데이터 또는 시퀀스(sequence)데이터 : (samples, timesteps, features) 크기의 3D 텐서\n",
        "- 이미지 : (samples, height, width, channels) 또는 (samples, channels, height, width) 크기의 4D 텐서\n",
        "- 동영상 : (samples, frames, height, width, channels) 또는 (samples, frames, channels, height, width) 크기의 5D 텐서 "
      ],
      "metadata": {
        "id": "cMffmBaMoNEy"
      }
    },
    {
      "cell_type": "code",
      "source": [
        ""
      ],
      "metadata": {
        "id": "ZFQj2FVdq0SI"
      },
      "execution_count": null,
      "outputs": []
    }
  ]
}